{
 "cells": [
  {
   "cell_type": "markdown",
   "metadata": {},
   "source": [
    "## Building an initial model"
   ]
  },
  {
   "cell_type": "markdown",
   "metadata": {},
   "source": [
    "We begin by verifying that our local instance has access to a GPU."
   ]
  },
  {
   "cell_type": "code",
   "execution_count": 2,
   "metadata": {},
   "outputs": [
    {
     "name": "stdout",
     "output_type": "stream",
     "text": [
      "['/job:localhost/replica:0/task:0/device:GPU:0']\n"
     ]
    }
   ],
   "source": [
    "from keras import backend as K\n",
    "print(K.tensorflow_backend._get_available_gpus())"
   ]
  },
  {
   "cell_type": "markdown",
   "metadata": {},
   "source": [
    "Next, let's download the data that we need."
   ]
  },
  {
   "cell_type": "code",
   "execution_count": 2,
   "metadata": {},
   "outputs": [],
   "source": [
    "!aws s3 cp s3://quilt-example/quilt/open_fruit/training_data/X_meta.csv X_meta.csv --quiet\n",
    "!aws s3 sync s3://quilt-example/quilt/open_fruit/images_cropped/ images_cropped/ --quiet"
   ]
  },
  {
   "cell_type": "code",
   "execution_count": 4,
   "metadata": {},
   "outputs": [
    {
     "name": "stdout",
     "output_type": "stream",
     "text": [
      "\u001b[0m\u001b[01;34mApple\u001b[0m/   \u001b[01;34mGrape\u001b[0m/       \u001b[01;34mLemon\u001b[0m/   \u001b[01;34mPeach\u001b[0m/  \u001b[01;34mPineapple\u001b[0m/   \u001b[01;34mTomato\u001b[0m/\r\n",
      "\u001b[01;34mBanana\u001b[0m/  \u001b[01;34mGrapefruit\u001b[0m/  \u001b[01;34mOrange\u001b[0m/  \u001b[01;34mPear\u001b[0m/   \u001b[01;34mStrawberry\u001b[0m/  \u001b[01;34mWatermelon\u001b[0m/\r\n"
     ]
    }
   ],
   "source": [
    "%ls images_cropped/"
   ]
  },
  {
   "cell_type": "markdown",
   "metadata": {},
   "source": [
    "There is a 25x difference between the occurence rates for the most common and least common classes in the dataset. Oversampling can help, but the number of occurances for the rarest classes is so low that it's better to simply discard them entirely."
   ]
  },
  {
   "cell_type": "code",
   "execution_count": 68,
   "metadata": {},
   "outputs": [],
   "source": [
    "# limit the problem space by eliminating the rarest classes\n",
    "# the model will not be able to perform very well on these classes\n",
    "# note: Pineapple is not uber rare, but including it would mean\n",
    "# having 13 classes :-)\n",
    "!rm -rf 'images_cropped/Mango'\n",
    "!rm -rf 'images_cropped/Common_fig'\n",
    "!rm -rf 'images_cropped/Cantaloupe'\n",
    "!rm -rf 'images_cropped/Pomegranate'"
   ]
  },
  {
   "cell_type": "markdown",
   "metadata": {},
   "source": [
    "Next, we need to oversample the data. There are two ways to do this. The first way, and the methodology I initially used, is to use the `imblearn.over_sampling.RandomOverSampler` tool in conjunction with `keras.Sequential.fit_dataframe`.\n",
    "\n",
    "This isn't fundamentally a wrong approach, but there is a simpler way to do this that is recommended when using `keras`: passing class weights to the `class_weight` parameter on the `fit` method. Here we construct that:"
   ]
  },
  {
   "cell_type": "code",
   "execution_count": 102,
   "metadata": {},
   "outputs": [],
   "source": [
    "import os\n",
    "\n",
    "labels_count = dict()\n",
    "for img_class in [ic for ic in os.listdir('images_cropped/') if ic[0] != '.']:\n",
    "    labels_count[img_class] = len(os.listdir('images_cropped/' + img_class))\n",
    "total_count = sum(labels_count.values())\n",
    "class_weights = {cls: total_count / count for cls, count in enumerate(labels_count.values())}"
   ]
  },
  {
   "cell_type": "markdown",
   "metadata": {},
   "source": [
    "With `class_weight=class_weights` and with the elimination of the rarest classes, we should have the right starting point for a relatively balanced model.\n",
    "\n",
    "Next, the model definition. Here's a sketch of the file that will actually run the model:"
   ]
  },
  {
   "cell_type": "code",
   "execution_count": 104,
   "metadata": {},
   "outputs": [
    {
     "name": "stdout",
     "output_type": "stream",
     "text": [
      "Found 26376 images belonging to 12 classes.\n",
      "Found 6588 images belonging to 12 classes.\n",
      "Epoch 1/20\n",
      " 12/206 [>.............................] - ETA: 2:55 - loss: 62.1871 - acc: 0.2083"
     ]
    },
    {
     "ename": "KeyboardInterrupt",
     "evalue": "",
     "output_type": "error",
     "traceback": [
      "\u001b[0;31m---------------------------------------------------------------------------\u001b[0m",
      "\u001b[0;31mKeyboardInterrupt\u001b[0m                         Traceback (most recent call last)",
      "\u001b[0;32m<ipython-input-104-3a58706d8ad5>\u001b[0m in \u001b[0;36m<module>\u001b[0;34m()\u001b[0m\n\u001b[1;32m    105\u001b[0m         \u001b[0mEarlyStopping\u001b[0m\u001b[0;34m(\u001b[0m\u001b[0mpatience\u001b[0m\u001b[0;34m=\u001b[0m\u001b[0;36m2\u001b[0m\u001b[0;34m,\u001b[0m \u001b[0mrestore_best_weights\u001b[0m\u001b[0;34m=\u001b[0m\u001b[0;32mTrue\u001b[0m\u001b[0;34m)\u001b[0m\u001b[0;34m\u001b[0m\u001b[0m\n\u001b[1;32m    106\u001b[0m     ],\n\u001b[0;32m--> 107\u001b[0;31m     \u001b[0mclass_weight\u001b[0m\u001b[0;34m=\u001b[0m\u001b[0mclass_weights\u001b[0m\u001b[0;34m\u001b[0m\u001b[0m\n\u001b[0m\u001b[1;32m    108\u001b[0m )\n\u001b[1;32m    109\u001b[0m \u001b[0;34m\u001b[0m\u001b[0m\n",
      "\u001b[0;32m~/anaconda3/envs/tensorflow_p36/lib/python3.6/site-packages/keras/legacy/interfaces.py\u001b[0m in \u001b[0;36mwrapper\u001b[0;34m(*args, **kwargs)\u001b[0m\n\u001b[1;32m     89\u001b[0m                 warnings.warn('Update your `' + object_name + '` call to the ' +\n\u001b[1;32m     90\u001b[0m                               'Keras 2 API: ' + signature, stacklevel=2)\n\u001b[0;32m---> 91\u001b[0;31m             \u001b[0;32mreturn\u001b[0m \u001b[0mfunc\u001b[0m\u001b[0;34m(\u001b[0m\u001b[0;34m*\u001b[0m\u001b[0margs\u001b[0m\u001b[0;34m,\u001b[0m \u001b[0;34m**\u001b[0m\u001b[0mkwargs\u001b[0m\u001b[0;34m)\u001b[0m\u001b[0;34m\u001b[0m\u001b[0m\n\u001b[0m\u001b[1;32m     92\u001b[0m         \u001b[0mwrapper\u001b[0m\u001b[0;34m.\u001b[0m\u001b[0m_original_function\u001b[0m \u001b[0;34m=\u001b[0m \u001b[0mfunc\u001b[0m\u001b[0;34m\u001b[0m\u001b[0m\n\u001b[1;32m     93\u001b[0m         \u001b[0;32mreturn\u001b[0m \u001b[0mwrapper\u001b[0m\u001b[0;34m\u001b[0m\u001b[0m\n",
      "\u001b[0;32m~/anaconda3/envs/tensorflow_p36/lib/python3.6/site-packages/keras/engine/training.py\u001b[0m in \u001b[0;36mfit_generator\u001b[0;34m(self, generator, steps_per_epoch, epochs, verbose, callbacks, validation_data, validation_steps, class_weight, max_queue_size, workers, use_multiprocessing, shuffle, initial_epoch)\u001b[0m\n\u001b[1;32m   1416\u001b[0m             \u001b[0muse_multiprocessing\u001b[0m\u001b[0;34m=\u001b[0m\u001b[0muse_multiprocessing\u001b[0m\u001b[0;34m,\u001b[0m\u001b[0;34m\u001b[0m\u001b[0m\n\u001b[1;32m   1417\u001b[0m             \u001b[0mshuffle\u001b[0m\u001b[0;34m=\u001b[0m\u001b[0mshuffle\u001b[0m\u001b[0;34m,\u001b[0m\u001b[0;34m\u001b[0m\u001b[0m\n\u001b[0;32m-> 1418\u001b[0;31m             initial_epoch=initial_epoch)\n\u001b[0m\u001b[1;32m   1419\u001b[0m \u001b[0;34m\u001b[0m\u001b[0m\n\u001b[1;32m   1420\u001b[0m     \u001b[0;34m@\u001b[0m\u001b[0minterfaces\u001b[0m\u001b[0;34m.\u001b[0m\u001b[0mlegacy_generator_methods_support\u001b[0m\u001b[0;34m\u001b[0m\u001b[0m\n",
      "\u001b[0;32m~/anaconda3/envs/tensorflow_p36/lib/python3.6/site-packages/keras/engine/training_generator.py\u001b[0m in \u001b[0;36mfit_generator\u001b[0;34m(model, generator, steps_per_epoch, epochs, verbose, callbacks, validation_data, validation_steps, class_weight, max_queue_size, workers, use_multiprocessing, shuffle, initial_epoch)\u001b[0m\n\u001b[1;32m    179\u001b[0m             \u001b[0mbatch_index\u001b[0m \u001b[0;34m=\u001b[0m \u001b[0;36m0\u001b[0m\u001b[0;34m\u001b[0m\u001b[0m\n\u001b[1;32m    180\u001b[0m             \u001b[0;32mwhile\u001b[0m \u001b[0msteps_done\u001b[0m \u001b[0;34m<\u001b[0m \u001b[0msteps_per_epoch\u001b[0m\u001b[0;34m:\u001b[0m\u001b[0;34m\u001b[0m\u001b[0m\n\u001b[0;32m--> 181\u001b[0;31m                 \u001b[0mgenerator_output\u001b[0m \u001b[0;34m=\u001b[0m \u001b[0mnext\u001b[0m\u001b[0;34m(\u001b[0m\u001b[0moutput_generator\u001b[0m\u001b[0;34m)\u001b[0m\u001b[0;34m\u001b[0m\u001b[0m\n\u001b[0m\u001b[1;32m    182\u001b[0m \u001b[0;34m\u001b[0m\u001b[0m\n\u001b[1;32m    183\u001b[0m                 \u001b[0;32mif\u001b[0m \u001b[0;32mnot\u001b[0m \u001b[0mhasattr\u001b[0m\u001b[0;34m(\u001b[0m\u001b[0mgenerator_output\u001b[0m\u001b[0;34m,\u001b[0m \u001b[0;34m'__len__'\u001b[0m\u001b[0;34m)\u001b[0m\u001b[0;34m:\u001b[0m\u001b[0;34m\u001b[0m\u001b[0m\n",
      "\u001b[0;32m~/anaconda3/envs/tensorflow_p36/lib/python3.6/site-packages/keras/utils/data_utils.py\u001b[0m in \u001b[0;36mget\u001b[0;34m(self)\u001b[0m\n\u001b[1;32m    683\u001b[0m         \u001b[0;32mtry\u001b[0m\u001b[0;34m:\u001b[0m\u001b[0;34m\u001b[0m\u001b[0m\n\u001b[1;32m    684\u001b[0m             \u001b[0;32mwhile\u001b[0m \u001b[0mself\u001b[0m\u001b[0;34m.\u001b[0m\u001b[0mis_running\u001b[0m\u001b[0;34m(\u001b[0m\u001b[0;34m)\u001b[0m\u001b[0;34m:\u001b[0m\u001b[0;34m\u001b[0m\u001b[0m\n\u001b[0;32m--> 685\u001b[0;31m                 \u001b[0minputs\u001b[0m \u001b[0;34m=\u001b[0m \u001b[0mself\u001b[0m\u001b[0;34m.\u001b[0m\u001b[0mqueue\u001b[0m\u001b[0;34m.\u001b[0m\u001b[0mget\u001b[0m\u001b[0;34m(\u001b[0m\u001b[0mblock\u001b[0m\u001b[0;34m=\u001b[0m\u001b[0;32mTrue\u001b[0m\u001b[0;34m)\u001b[0m\u001b[0;34m.\u001b[0m\u001b[0mget\u001b[0m\u001b[0;34m(\u001b[0m\u001b[0;34m)\u001b[0m\u001b[0;34m\u001b[0m\u001b[0m\n\u001b[0m\u001b[1;32m    686\u001b[0m                 \u001b[0mself\u001b[0m\u001b[0;34m.\u001b[0m\u001b[0mqueue\u001b[0m\u001b[0;34m.\u001b[0m\u001b[0mtask_done\u001b[0m\u001b[0;34m(\u001b[0m\u001b[0;34m)\u001b[0m\u001b[0;34m\u001b[0m\u001b[0m\n\u001b[1;32m    687\u001b[0m                 \u001b[0;32mif\u001b[0m \u001b[0minputs\u001b[0m \u001b[0;32mis\u001b[0m \u001b[0;32mnot\u001b[0m \u001b[0;32mNone\u001b[0m\u001b[0;34m:\u001b[0m\u001b[0;34m\u001b[0m\u001b[0m\n",
      "\u001b[0;32m~/anaconda3/envs/tensorflow_p36/lib/python3.6/multiprocessing/pool.py\u001b[0m in \u001b[0;36mget\u001b[0;34m(self, timeout)\u001b[0m\n\u001b[1;32m    636\u001b[0m \u001b[0;34m\u001b[0m\u001b[0m\n\u001b[1;32m    637\u001b[0m     \u001b[0;32mdef\u001b[0m \u001b[0mget\u001b[0m\u001b[0;34m(\u001b[0m\u001b[0mself\u001b[0m\u001b[0;34m,\u001b[0m \u001b[0mtimeout\u001b[0m\u001b[0;34m=\u001b[0m\u001b[0;32mNone\u001b[0m\u001b[0;34m)\u001b[0m\u001b[0;34m:\u001b[0m\u001b[0;34m\u001b[0m\u001b[0m\n\u001b[0;32m--> 638\u001b[0;31m         \u001b[0mself\u001b[0m\u001b[0;34m.\u001b[0m\u001b[0mwait\u001b[0m\u001b[0;34m(\u001b[0m\u001b[0mtimeout\u001b[0m\u001b[0;34m)\u001b[0m\u001b[0;34m\u001b[0m\u001b[0m\n\u001b[0m\u001b[1;32m    639\u001b[0m         \u001b[0;32mif\u001b[0m \u001b[0;32mnot\u001b[0m \u001b[0mself\u001b[0m\u001b[0;34m.\u001b[0m\u001b[0mready\u001b[0m\u001b[0;34m(\u001b[0m\u001b[0;34m)\u001b[0m\u001b[0;34m:\u001b[0m\u001b[0;34m\u001b[0m\u001b[0m\n\u001b[1;32m    640\u001b[0m             \u001b[0;32mraise\u001b[0m \u001b[0mTimeoutError\u001b[0m\u001b[0;34m\u001b[0m\u001b[0m\n",
      "\u001b[0;32m~/anaconda3/envs/tensorflow_p36/lib/python3.6/multiprocessing/pool.py\u001b[0m in \u001b[0;36mwait\u001b[0;34m(self, timeout)\u001b[0m\n\u001b[1;32m    633\u001b[0m \u001b[0;34m\u001b[0m\u001b[0m\n\u001b[1;32m    634\u001b[0m     \u001b[0;32mdef\u001b[0m \u001b[0mwait\u001b[0m\u001b[0;34m(\u001b[0m\u001b[0mself\u001b[0m\u001b[0;34m,\u001b[0m \u001b[0mtimeout\u001b[0m\u001b[0;34m=\u001b[0m\u001b[0;32mNone\u001b[0m\u001b[0;34m)\u001b[0m\u001b[0;34m:\u001b[0m\u001b[0;34m\u001b[0m\u001b[0m\n\u001b[0;32m--> 635\u001b[0;31m         \u001b[0mself\u001b[0m\u001b[0;34m.\u001b[0m\u001b[0m_event\u001b[0m\u001b[0;34m.\u001b[0m\u001b[0mwait\u001b[0m\u001b[0;34m(\u001b[0m\u001b[0mtimeout\u001b[0m\u001b[0;34m)\u001b[0m\u001b[0;34m\u001b[0m\u001b[0m\n\u001b[0m\u001b[1;32m    636\u001b[0m \u001b[0;34m\u001b[0m\u001b[0m\n\u001b[1;32m    637\u001b[0m     \u001b[0;32mdef\u001b[0m \u001b[0mget\u001b[0m\u001b[0;34m(\u001b[0m\u001b[0mself\u001b[0m\u001b[0;34m,\u001b[0m \u001b[0mtimeout\u001b[0m\u001b[0;34m=\u001b[0m\u001b[0;32mNone\u001b[0m\u001b[0;34m)\u001b[0m\u001b[0;34m:\u001b[0m\u001b[0;34m\u001b[0m\u001b[0m\n",
      "\u001b[0;32m~/anaconda3/envs/tensorflow_p36/lib/python3.6/threading.py\u001b[0m in \u001b[0;36mwait\u001b[0;34m(self, timeout)\u001b[0m\n\u001b[1;32m    549\u001b[0m             \u001b[0msignaled\u001b[0m \u001b[0;34m=\u001b[0m \u001b[0mself\u001b[0m\u001b[0;34m.\u001b[0m\u001b[0m_flag\u001b[0m\u001b[0;34m\u001b[0m\u001b[0m\n\u001b[1;32m    550\u001b[0m             \u001b[0;32mif\u001b[0m \u001b[0;32mnot\u001b[0m \u001b[0msignaled\u001b[0m\u001b[0;34m:\u001b[0m\u001b[0;34m\u001b[0m\u001b[0m\n\u001b[0;32m--> 551\u001b[0;31m                 \u001b[0msignaled\u001b[0m \u001b[0;34m=\u001b[0m \u001b[0mself\u001b[0m\u001b[0;34m.\u001b[0m\u001b[0m_cond\u001b[0m\u001b[0;34m.\u001b[0m\u001b[0mwait\u001b[0m\u001b[0;34m(\u001b[0m\u001b[0mtimeout\u001b[0m\u001b[0;34m)\u001b[0m\u001b[0;34m\u001b[0m\u001b[0m\n\u001b[0m\u001b[1;32m    552\u001b[0m             \u001b[0;32mreturn\u001b[0m \u001b[0msignaled\u001b[0m\u001b[0;34m\u001b[0m\u001b[0m\n\u001b[1;32m    553\u001b[0m \u001b[0;34m\u001b[0m\u001b[0m\n",
      "\u001b[0;32m~/anaconda3/envs/tensorflow_p36/lib/python3.6/threading.py\u001b[0m in \u001b[0;36mwait\u001b[0;34m(self, timeout)\u001b[0m\n\u001b[1;32m    293\u001b[0m         \u001b[0;32mtry\u001b[0m\u001b[0;34m:\u001b[0m    \u001b[0;31m# restore state no matter what (e.g., KeyboardInterrupt)\u001b[0m\u001b[0;34m\u001b[0m\u001b[0m\n\u001b[1;32m    294\u001b[0m             \u001b[0;32mif\u001b[0m \u001b[0mtimeout\u001b[0m \u001b[0;32mis\u001b[0m \u001b[0;32mNone\u001b[0m\u001b[0;34m:\u001b[0m\u001b[0;34m\u001b[0m\u001b[0m\n\u001b[0;32m--> 295\u001b[0;31m                 \u001b[0mwaiter\u001b[0m\u001b[0;34m.\u001b[0m\u001b[0macquire\u001b[0m\u001b[0;34m(\u001b[0m\u001b[0;34m)\u001b[0m\u001b[0;34m\u001b[0m\u001b[0m\n\u001b[0m\u001b[1;32m    296\u001b[0m                 \u001b[0mgotit\u001b[0m \u001b[0;34m=\u001b[0m \u001b[0;32mTrue\u001b[0m\u001b[0;34m\u001b[0m\u001b[0m\n\u001b[1;32m    297\u001b[0m             \u001b[0;32melse\u001b[0m\u001b[0;34m:\u001b[0m\u001b[0;34m\u001b[0m\u001b[0m\n",
      "\u001b[0;31mKeyboardInterrupt\u001b[0m: "
     ]
    }
   ],
   "source": [
    "# %load resnet48/train.py\n",
    "# from comet_ml import Experiment  # must be imported before keras\n",
    "import numpy as np\n",
    "import pandas as pd\n",
    "import keras\n",
    "from keras.preprocessing.image import ImageDataGenerator\n",
    "from keras.models import Sequential\n",
    "from keras.layers import Flatten, Dense, Dropout\n",
    "from keras.optimizers import RMSprop\n",
    "from keras.callbacks import EarlyStopping, ReduceLROnPlateau\n",
    "import tensorflow as tf\n",
    "\n",
    "\n",
    "# check GPU availability\n",
    "sess = tf.Session(config=tf.ConfigProto(log_device_placement=True))\n",
    "\n",
    "\n",
    "img_dir = 'images_cropped/'\n",
    "metadata_filepath = 'X_meta.csv'\n",
    "batch_size = 128\n",
    "\n",
    "\n",
    "# set up experiment logging\n",
    "# set COMET_API_KEY in your environment variables\n",
    "# or pass it as the first value in the Experiment object\n",
    "# experiment = Experiment(\n",
    "#     \"...\",\n",
    "#     workspace=\"ceceshao1\", project_name=\"aleksey-open-fruits\"\n",
    "# )\n",
    "\n",
    "\n",
    "# get X and y values for flow_from_directory\n",
    "X_meta = pd.read_csv(metadata_filepath)\n",
    "X = X_meta[['CroppedImageURL']].values\n",
    "y = X_meta['LabelName'].values\n",
    "\n",
    "\n",
    "# define data generators\n",
    "train_datagen = ImageDataGenerator(\n",
    "    rotation_range=40,\n",
    "    width_shift_range=0.2,\n",
    "    height_shift_range=0.2,\n",
    "    rescale=1/255,\n",
    "    shear_range=0.2,\n",
    "    zoom_range=0.2,\n",
    "    horizontal_flip=True,\n",
    "    fill_mode='nearest',\n",
    "    validation_split=0.2\n",
    ")\n",
    "test_datagen = ImageDataGenerator(\n",
    "    rescale=1/255,\n",
    ")\n",
    "train_generator = train_datagen.flow_from_directory(\n",
    "    img_dir,\n",
    "    target_size=(48, 48),\n",
    "    batch_size=batch_size,\n",
    "    class_mode='categorical',\n",
    "    subset='training',\n",
    ")\n",
    "validation_generator = train_datagen.flow_from_directory(\n",
    "    img_dir,\n",
    "    target_size=(48, 48),\n",
    "    batch_size=batch_size,\n",
    "    class_mode='categorical',\n",
    "    subset='validation'\n",
    ")\n",
    "\n",
    "\n",
    "# define the model\n",
    "prior = keras.applications.VGG16(\n",
    "    include_top=False, \n",
    "    weights='imagenet',\n",
    "    input_shape=(48, 48, 3)\n",
    ")\n",
    "model = Sequential()\n",
    "model.add(prior)\n",
    "model.add(Flatten())\n",
    "model.add(Dense(256, activation='relu', name='Dense_Intermediate'))\n",
    "model.add(Dropout(0.1, name='Dropout_Regularization'))\n",
    "model.add(Dense(12, activation='sigmoid', name='Output'))\n",
    "\n",
    "\n",
    "# freeze the vgg16 model\n",
    "for cnn_block_layer in model.layers[0].layers:\n",
    "    cnn_block_layer.trainable = False\n",
    "model.layers[0].trainable = False\n",
    "\n",
    "\n",
    "# compile the model\n",
    "model.compile(\n",
    "    optimizer=RMSprop(),\n",
    "    loss='categorical_crossentropy',\n",
    "    metrics=['accuracy']\n",
    ")\n",
    "\n",
    "\n",
    "# fit the model\n",
    "model.fit_generator(\n",
    "    train_generator,\n",
    "    steps_per_epoch=len(train_generator.filenames) // batch_size,\n",
    "    epochs=20,\n",
    "    validation_data=validation_generator,\n",
    "    validation_steps=len(train_generator.filenames) // batch_size,\n",
    "    callbacks=[\n",
    "        EarlyStopping(patience=2, restore_best_weights=True)\n",
    "    ],\n",
    "    class_weight=class_weights\n",
    ")\n",
    "\n",
    "\n",
    "# save model artifact\n",
    "model.save('/opt/ml/model/model-48.h5')\n",
    "\n",
    "\n",
    "# experiment.end()"
   ]
  },
  {
   "cell_type": "markdown",
   "metadata": {},
   "source": [
    "This is just to test that this will run successfully, hence the `KeyboardInterrupt`.\n",
    "\n",
    "OK, let's talk optimization. We already dealt with the imbalanced learning problem. Next, let's try to find a performant learning rate. We'll use `keras_lr_finder.LRFinder` to do that. But `LRFinder` is `fit`-only, so it requries a bit of jury rigging to get it working (with a representative balanced class sample)."
   ]
  },
  {
   "cell_type": "code",
   "execution_count": 163,
   "metadata": {
    "scrolled": true
   },
   "outputs": [
    {
     "name": "stdout",
     "output_type": "stream",
     "text": [
      "Found 26376 images belonging to 12 classes.\n",
      "Epoch 1/5\n",
      "3468/3468 [==============================] - 2s 646us/step - loss: 2.8179 - acc: 0.0908\n",
      "Epoch 2/5\n",
      "3468/3468 [==============================] - 2s 555us/step - loss: 2.2403 - acc: 0.2246\n",
      "Epoch 3/5\n",
      "3468/3468 [==============================] - 2s 552us/step - loss: 2.2971 - acc: 0.2056\n",
      "Epoch 4/5\n",
      "3468/3468 [==============================] - 2s 551us/step - loss: 2.6090 - acc: 0.0874\n",
      "Epoch 5/5\n",
      "3468/3468 [==============================] - 2s 550us/step - loss: 4.2652 - acc: 0.0842\n"
     ]
    }
   ],
   "source": [
    "from imblearn.under_sampling import RandomUnderSampler\n",
    "from keras_lr_finder import LRFinder\n",
    "\n",
    "lr_find_generator = train_datagen.flow_from_directory(\n",
    "    img_dir,\n",
    "    target_size=(48, 48),\n",
    "    batch_size=8192*2,\n",
    "    class_mode='categorical',\n",
    "    subset='training'\n",
    ")\n",
    "\n",
    "X_batch, y_batch = next(lr_find_generator)\n",
    "X_idxs_resampled, _ = RandomUnderSampler().fit_resample(\n",
    "    np.asarray(range(len(X_batch)))[:, np.newaxis], \n",
    "    y_batch.argmax(axis=1)\n",
    ")\n",
    "\n",
    "X_batch, y_batch = X_batch[X_idxs_resampled[:, 0]], y_batch[X_idxs_resampled[:, 0]]\n",
    "\n",
    "lr_finder = LRFinder(model)\n",
    "lr_finder.find(X_batch, y_batch, start_lr=0.0001, end_lr=1, batch_size=batch_size, epochs=5)\n",
    "\n",
    "# X_batch takes up a lot of memory\n",
    "del X_batch\n",
    "del y_batch"
   ]
  },
  {
   "cell_type": "code",
   "execution_count": 164,
   "metadata": {},
   "outputs": [
    {
     "data": {
      "image/png": "[encoded data removed]",
      "text/plain": [
       "<Figure size 432x288 with 1 Axes>"
      ]
     },
     "metadata": {},
     "output_type": "display_data"
    }
   ],
   "source": [
    "%matplotlib inline\n",
    "lr_finder.plot_loss()"
   ]
  },
  {
   "cell_type": "code",
   "execution_count": 165,
   "metadata": {},
   "outputs": [
    {
     "data": {
      "image/png": "[encoded data removed]",
      "text/plain": [
       "<Figure size 432x288 with 1 Axes>"
      ]
     },
     "metadata": {},
     "output_type": "display_data"
    }
   ],
   "source": [
    "lr_finder.plot_loss_change()"
   ]
  },
  {
   "cell_type": "markdown",
   "metadata": {},
   "source": [
    "The function is unfortunately not very smooth. There is high variability due to a combination of the small sample size and the resampling overhead constraining how much data `LRFinder` is seeing. We can see that `10^-3` (0.001, the default learning rate) is a good choice."
   ]
  },
  {
   "cell_type": "markdown",
   "metadata": {},
   "source": [
    "## Launching the first batch of jobs\n",
    "\n",
    "### input_size=48, batch_size=512"
   ]
  },
  {
   "cell_type": "code",
   "execution_count": 6,
   "metadata": {},
   "outputs": [
    {
     "name": "stdout",
     "output_type": "stream",
     "text": [
      "fahr.fahr - INFO - Using \"/home/ec2-user/SageMaker/progressive-resizing/resnet48_512/requirements.txt\" as envfile.\n",
      "fahr.fahr - INFO - A Dockerfile already exists at \"/home/ec2-user/SageMaker/progressive-resizing/resnet48_512/Dockerfile\" and \"overwrite\" is set to False. The existing Dockerfile will be reused.\n",
      "fahr.fahr - INFO - An image entrypoint already exists at \"/home/ec2-user/SageMaker/progressive-resizing/resnet48_512/run.sh\" and \"overwrite\" is set to False. The existing file will be reused.\n",
      "fahr.fahr - INFO - Building \"resnet48_512/train\" container image from \"/home/ec2-user/SageMaker/progressive-resizing/resnet48_512\".\n",
      "fahr.fahr - INFO - \"resnet48_512/train\" repository found in ECR registry 730278974607.\n",
      "fahr.fahr - INFO - Retrieving auth token for ECR registry 730278974607.\n",
      "fahr.fahr - INFO - Pushing image to ECR registry 730278974607.\n",
      "fahr.fahr - INFO - aleksey_sagemaker_role is both the desired IAM role and the current execution context. Creating a new session using the current session authorization credentials.\n",
      "fahr.fahr - INFO - Fitting resnet48_512/train classifier with job name fahr-resnet48-512-train-2. Using 1x ml.p3.2xlarge compute instances.\n",
      "fahr.fahr - INFO - The training job is now running. To track training progress visit https://console.aws.amazon.com/sagemaker/home?#/jobs/fahr-resnet48-512-train-2. To see training logs visit https://console.aws.amazon.com/cloudwatch/home?#logStream:group=/aws/sagemaker/TrainingJobs;streamFilter=typeLogStreamPrefix. To download finished model artifacts run fahr fetch ./ \"resnet48_512/train\" \"s3://alpha-quilt-storage/aleksey/progressive-resizing/\" (or similar) after training is complete.\n"
     ]
    },
    {
     "name": "stderr",
     "output_type": "stream",
     "text": [
      "INFO:fahr.fahr:aleksey_sagemaker_role is both the desired IAM role and the current execution context. Creating a new session using the current session authorization credentials.\n",
      "INFO:fahr.fahr:Fitting resnet48_512/train classifier with job name fahr-resnet48-512-train-2. Using 1x ml.p3.2xlarge compute instances.\n",
      "INFO:sagemaker:Creating training-job with name: fahr-resnet48-512-train-2\n",
      "INFO:fahr.fahr:The training job is now running. To track training progress visit https://console.aws.amazon.com/sagemaker/home?#/jobs/fahr-resnet48-512-train-2. To see training logs visit https://console.aws.amazon.com/cloudwatch/home?#logStream:group=/aws/sagemaker/TrainingJobs;streamFilter=typeLogStreamPrefix. To download finished model artifacts run fahr fetch ./ \"resnet48_512/train\" \"s3://alpha-quilt-storage/aleksey/progressive-resizing/\" (or similar) after training is complete.\n"
     ]
    }
   ],
   "source": [
    "%%sh\n",
    "fahr fit resnet48_512/train.py \\\n",
    "    --build-driver='local-gpu' \\\n",
    "    --train-driver='sagemaker' \\\n",
    "    --config.output_path='s3://alpha-quilt-storage/aleksey/progressive-resizing/' \\\n",
    "    --config.role_name='aleksey_sagemaker_role' \\\n",
    "    --config.train_instance_type='ml.p3.2xlarge'"
   ]
  },
  {
   "cell_type": "code",
   "execution_count": 1,
   "metadata": {},
   "outputs": [
    {
     "name": "stdout",
     "output_type": "stream",
     "text": [
      "fahr.fahr - INFO - Downloaded model artifact(s) to \"/home/ec2-user/SageMaker/progressive-resizing/\".\n"
     ]
    }
   ],
   "source": [
    "%%sh\n",
    "fahr fetch ./ \"resnet48_512/train\" \"s3://alpha-quilt-storage/aleksey/progressive-resizing/\""
   ]
  },
  {
   "cell_type": "markdown",
   "metadata": {},
   "source": [
    "### input_size=48, batch_size=256"
   ]
  },
  {
   "cell_type": "code",
   "execution_count": 8,
   "metadata": {},
   "outputs": [
    {
     "name": "stdout",
     "output_type": "stream",
     "text": [
      "fahr.fahr - INFO - Using \"/home/ec2-user/SageMaker/progressive-resizing/resnet48_256/requirements.txt\" as envfile.\n",
      "fahr.fahr - INFO - A Dockerfile already exists at \"/home/ec2-user/SageMaker/progressive-resizing/resnet48_256/Dockerfile\" and \"overwrite\" is set to False. The existing Dockerfile will be reused.\n",
      "fahr.fahr - INFO - An image entrypoint already exists at \"/home/ec2-user/SageMaker/progressive-resizing/resnet48_256/run.sh\" and \"overwrite\" is set to False. The existing file will be reused.\n",
      "fahr.fahr - INFO - Building \"resnet48-256-train\" container image from \"/home/ec2-user/SageMaker/progressive-resizing/resnet48_256\".\n",
      "fahr.fahr - INFO - \"resnet48-256-train\" repository not found in ECR registry 730278974607. Creating it now.\n",
      "fahr.fahr - INFO - Retrieving auth token for ECR registry 730278974607.\n",
      "fahr.fahr - INFO - Pushing image to ECR registry 730278974607.\n",
      "fahr.fahr - INFO - aleksey_sagemaker_role is both the desired IAM role and the current execution context. Creating a new session using the current session authorization credentials.\n",
      "fahr.fahr - INFO - Fitting resnet48-256-train classifier with job name resnet48-256-train-1. Using 1x ml.p3.2xlarge compute instances.\n",
      "fahr.fahr - INFO - The training job is now running. To track training progress visit https://console.aws.amazon.com/sagemaker/home?#/jobs/resnet48-256-train-1. To see training logs visit https://console.aws.amazon.com/cloudwatch/home?#logStream:group=/aws/sagemaker/TrainingJobs;streamFilter=typeLogStreamPrefix. To download finished model artifacts run fahr fetch ./ \"resnet48-256-train\" \"s3://alpha-quilt-storage/aleksey/progressive-resizing/\" (or similar) after training is complete.\n"
     ]
    },
    {
     "name": "stderr",
     "output_type": "stream",
     "text": [
      "INFO:fahr.fahr:aleksey_sagemaker_role is both the desired IAM role and the current execution context. Creating a new session using the current session authorization credentials.\n",
      "INFO:fahr.fahr:Fitting resnet48-256-train classifier with job name resnet48-256-train-1. Using 1x ml.p3.2xlarge compute instances.\n",
      "INFO:sagemaker:Creating training-job with name: resnet48-256-train-1\n",
      "INFO:fahr.fahr:The training job is now running. To track training progress visit https://console.aws.amazon.com/sagemaker/home?#/jobs/resnet48-256-train-1. To see training logs visit https://console.aws.amazon.com/cloudwatch/home?#logStream:group=/aws/sagemaker/TrainingJobs;streamFilter=typeLogStreamPrefix. To download finished model artifacts run fahr fetch ./ \"resnet48-256-train\" \"s3://alpha-quilt-storage/aleksey/progressive-resizing/\" (or similar) after training is complete.\n"
     ]
    }
   ],
   "source": [
    "%%sh\n",
    "fahr fit resnet48_256/train.py \\\n",
    "    --build-driver='local-gpu' \\\n",
    "    --train-driver='sagemaker' \\\n",
    "    --config.output_path='s3://alpha-quilt-storage/aleksey/progressive-resizing/' \\\n",
    "    --config.role_name='aleksey_sagemaker_role' \\\n",
    "    --config.train_instance_type='ml.p3.2xlarge'"
   ]
  },
  {
   "cell_type": "markdown",
   "metadata": {},
   "source": [
    "### input_size=48, batch_size=128"
   ]
  },
  {
   "cell_type": "code",
   "execution_count": 9,
   "metadata": {},
   "outputs": [
    {
     "name": "stdout",
     "output_type": "stream",
     "text": [
      "fahr.fahr - INFO - Using \"/home/ec2-user/SageMaker/progressive-resizing/resnet48_128/requirements.txt\" as envfile.\n",
      "fahr.fahr - INFO - A Dockerfile already exists at \"/home/ec2-user/SageMaker/progressive-resizing/resnet48_128/Dockerfile\" and \"overwrite\" is set to False. The existing Dockerfile will be reused.\n",
      "fahr.fahr - INFO - An image entrypoint already exists at \"/home/ec2-user/SageMaker/progressive-resizing/resnet48_128/run.sh\" and \"overwrite\" is set to False. The existing file will be reused.\n",
      "fahr.fahr - INFO - Building \"resnet48-128-train\" container image from \"/home/ec2-user/SageMaker/progressive-resizing/resnet48_128\".\n",
      "fahr.fahr - INFO - \"resnet48-128-train\" repository not found in ECR registry 730278974607. Creating it now.\n",
      "fahr.fahr - INFO - Retrieving auth token for ECR registry 730278974607.\n",
      "fahr.fahr - INFO - Pushing image to ECR registry 730278974607.\n",
      "fahr.fahr - INFO - aleksey_sagemaker_role is both the desired IAM role and the current execution context. Creating a new session using the current session authorization credentials.\n",
      "fahr.fahr - INFO - Fitting resnet48-128-train classifier with job name resnet48-128-train-1. Using 1x ml.p2.xlarge compute instances.\n",
      "fahr.fahr - INFO - The training job is now running. To track training progress visit https://console.aws.amazon.com/sagemaker/home?#/jobs/resnet48-128-train-1. To see training logs visit https://console.aws.amazon.com/cloudwatch/home?#logStream:group=/aws/sagemaker/TrainingJobs;streamFilter=typeLogStreamPrefix. To download finished model artifacts run fahr fetch ./ \"resnet48-128-train\" \"s3://alpha-quilt-storage/aleksey/progressive-resizing/\" (or similar) after training is complete.\n"
     ]
    },
    {
     "name": "stderr",
     "output_type": "stream",
     "text": [
      "INFO:fahr.fahr:aleksey_sagemaker_role is both the desired IAM role and the current execution context. Creating a new session using the current session authorization credentials.\n",
      "INFO:fahr.fahr:Fitting resnet48-128-train classifier with job name resnet48-128-train-1. Using 1x ml.p2.xlarge compute instances.\n",
      "INFO:sagemaker:Creating training-job with name: resnet48-128-train-1\n",
      "INFO:fahr.fahr:The training job is now running. To track training progress visit https://console.aws.amazon.com/sagemaker/home?#/jobs/resnet48-128-train-1. To see training logs visit https://console.aws.amazon.com/cloudwatch/home?#logStream:group=/aws/sagemaker/TrainingJobs;streamFilter=typeLogStreamPrefix. To download finished model artifacts run fahr fetch ./ \"resnet48-128-train\" \"s3://alpha-quilt-storage/aleksey/progressive-resizing/\" (or similar) after training is complete.\n"
     ]
    }
   ],
   "source": [
    "%%sh\n",
    "fahr fit resnet48_128/train.py \\\n",
    "    --build-driver='local-gpu' \\\n",
    "    --train-driver='sagemaker' \\\n",
    "    --config.output_path='s3://alpha-quilt-storage/aleksey/progressive-resizing/' \\\n",
    "    --config.role_name='aleksey_sagemaker_role' \\\n",
    "    --config.train_instance_type='ml.p2.xlarge'"
   ]
  },
  {
   "cell_type": "markdown",
   "metadata": {},
   "source": [
    "## Evaluating the first batch of jobs"
   ]
  },
  {
   "cell_type": "markdown",
   "metadata": {},
   "source": [
    "**Note**: the below should work in theory, except for a logic error I made in the naming of jobs in the version of `fahr` that ran these jobs (since fixed). So I downloaded the resultant artifacts by hand.\n",
    "\n",
    "**Note**: typically I would evaluate model performance using the CometML tooling. Unfortunately that did not work for this run because I didn't enable model history in the callback (history is not written for you automatically if you use `fit_generator`; TIL). So I write out observations on the model history by hand by reading it from the training logs."
   ]
  },
  {
   "cell_type": "code",
   "execution_count": 17,
   "metadata": {},
   "outputs": [],
   "source": [
    "# %%sh\n",
    "# fahr fetch ./ \"resnet48-256/train\" \"s3://alpha-quilt-storage/aleksey/progressive-resizing/\"\n",
    "# fahr fetch ./ \"resnet48-128/train\" \"s3://alpha-quilt-storage/aleksey/progressive-resizing/\""
   ]
  },
  {
   "cell_type": "code",
   "execution_count": 32,
   "metadata": {},
   "outputs": [
    {
     "name": "stdout",
     "output_type": "stream",
     "text": [
      "download: s3://alpha-quilt-storage/aleksey/progressive-resizing/resnet48-128-train-1/output/model.tar.gz to ./model.tar.gz\n"
     ]
    }
   ],
   "source": [
    "!aws s3 cp \\\n",
    "    s3://alpha-quilt-storage/aleksey/progressive-resizing/resnet48-128-train-1/output/model.tar.gz \\\n",
    "    ./model.tar.gz && \\\n",
    " tar -xzf model.tar.gz -C resnet48_128 && \\\n",
    " rm model.tar.gz"
   ]
  },
  {
   "cell_type": "code",
   "execution_count": 33,
   "metadata": {},
   "outputs": [
    {
     "name": "stdout",
     "output_type": "stream",
     "text": [
      "download: s3://alpha-quilt-storage/aleksey/progressive-resizing/resnet48-256-train-1/output/model.tar.gz to ./model.tar.gz\n"
     ]
    }
   ],
   "source": [
    "!aws s3 cp \\\n",
    "    s3://alpha-quilt-storage/aleksey/progressive-resizing/resnet48-256-train-1/output/model.tar.gz \\\n",
    "    ./model.tar.gz && \\\n",
    " tar -xzf model.tar.gz -C resnet48_256 && \\\n",
    " rm model.tar.gz"
   ]
  },
  {
   "cell_type": "markdown",
   "metadata": {},
   "source": [
    "The 256 batch size model stopped at 20 epochs with slightly improved validation accuracy.\n",
    "\n",
    "```\n",
    "103/103 [==============================] - 773s 8s/step - loss: 1.2621 - acc: 0.5751 - val_loss: 1.3608 - val_acc: 0.5426\n",
    "```\n",
    "\n",
    "The 128 batch size model stopped at 20 epochs also with even more improved validation accuracy.\n",
    "\n",
    "```\n",
    "206/206 [==============================] - 852s 4s/step - loss: 1.2347 - acc: 0.5829 - val_loss: 1.3455 - val_acc: 0.5524\n",
    "```\n",
    "\n",
    "Note that this 1% improvement came from seeing 2x as many batches, and cost 1/4 the cost of 256 model to train. Whilst arguably one might find even better performance by dipping even lower in epoch size, let's stop here."
   ]
  },
  {
   "cell_type": "markdown",
   "metadata": {},
   "source": [
    "## Progressive resizing\n",
    "\n",
    "We're not going to spend any more time iterating on this basic model structure. Let's jump instead to progressive resizing (we may also attempt ensembling later)."
   ]
  },
  {
   "cell_type": "code",
   "execution_count": 69,
   "metadata": {},
   "outputs": [
    {
     "name": "stdout",
     "output_type": "stream",
     "text": [
      "(None, 48, 48, 3)\n",
      "(None, 48, 48, 64)\n",
      "(None, 48, 48, 64)\n",
      "(None, 48, 48, 64)\n",
      "(None, 48, 48, 64)\n",
      "(None, 24, 24, 64)\n"
     ]
    }
   ],
   "source": [
    "# just checking VGG layer output shapes\n",
    "\n",
    "import keras\n",
    "_prior = keras.applications.VGG16(\n",
    "    include_top=False, \n",
    "    weights='imagenet',\n",
    "    input_shape=(48, 48, 3)\n",
    ")\n",
    "\n",
    "print(_prior.layers[1].input_shape)\n",
    "print(_prior.layers[1].output_shape)\n",
    "print(_prior.layers[2].input_shape)\n",
    "print(_prior.layers[2].output_shape)\n",
    "print(_prior.layers[3].input_shape)\n",
    "print(_prior.layers[3].output_shape)"
   ]
  },
  {
   "cell_type": "code",
   "execution_count": 16,
   "metadata": {},
   "outputs": [
    {
     "name": "stdout",
     "output_type": "stream",
     "text": [
      "Found 26376 images belonging to 12 classes.\n",
      "Found 6588 images belonging to 12 classes.\n",
      "Epoch 1/20\n",
      "  3/206 [..............................] - ETA: 4:44 - loss: 83.8500 - acc: 0.0964"
     ]
    },
    {
     "ename": "KeyboardInterrupt",
     "evalue": "",
     "output_type": "error",
     "traceback": [
      "\u001b[0;31m---------------------------------------------------------------------------\u001b[0m",
      "\u001b[0;31mKeyboardInterrupt\u001b[0m                         Traceback (most recent call last)",
      "\u001b[0;32m<ipython-input-16-8ab2783ae9a3>\u001b[0m in \u001b[0;36m<module>\u001b[0;34m()\u001b[0m\n\u001b[1;32m    110\u001b[0m         \u001b[0mEarlyStopping\u001b[0m\u001b[0;34m(\u001b[0m\u001b[0mpatience\u001b[0m\u001b[0;34m=\u001b[0m\u001b[0;36m2\u001b[0m\u001b[0;34m,\u001b[0m \u001b[0mrestore_best_weights\u001b[0m\u001b[0;34m=\u001b[0m\u001b[0;32mTrue\u001b[0m\u001b[0;34m)\u001b[0m\u001b[0;34m\u001b[0m\u001b[0m\n\u001b[1;32m    111\u001b[0m     ],\n\u001b[0;32m--> 112\u001b[0;31m     \u001b[0mclass_weight\u001b[0m\u001b[0;34m=\u001b[0m\u001b[0mclass_weights\u001b[0m\u001b[0;34m\u001b[0m\u001b[0m\n\u001b[0m\u001b[1;32m    113\u001b[0m )\n\u001b[1;32m    114\u001b[0m \u001b[0;34m\u001b[0m\u001b[0m\n",
      "\u001b[0;32m~/anaconda3/envs/tensorflow_p36/lib/python3.6/site-packages/keras/legacy/interfaces.py\u001b[0m in \u001b[0;36mwrapper\u001b[0;34m(*args, **kwargs)\u001b[0m\n\u001b[1;32m     89\u001b[0m                 warnings.warn('Update your `' + object_name + '` call to the ' +\n\u001b[1;32m     90\u001b[0m                               'Keras 2 API: ' + signature, stacklevel=2)\n\u001b[0;32m---> 91\u001b[0;31m             \u001b[0;32mreturn\u001b[0m \u001b[0mfunc\u001b[0m\u001b[0;34m(\u001b[0m\u001b[0;34m*\u001b[0m\u001b[0margs\u001b[0m\u001b[0;34m,\u001b[0m \u001b[0;34m**\u001b[0m\u001b[0mkwargs\u001b[0m\u001b[0;34m)\u001b[0m\u001b[0;34m\u001b[0m\u001b[0m\n\u001b[0m\u001b[1;32m     92\u001b[0m         \u001b[0mwrapper\u001b[0m\u001b[0;34m.\u001b[0m\u001b[0m_original_function\u001b[0m \u001b[0;34m=\u001b[0m \u001b[0mfunc\u001b[0m\u001b[0;34m\u001b[0m\u001b[0m\n\u001b[1;32m     93\u001b[0m         \u001b[0;32mreturn\u001b[0m \u001b[0mwrapper\u001b[0m\u001b[0;34m\u001b[0m\u001b[0m\n",
      "\u001b[0;32m~/anaconda3/envs/tensorflow_p36/lib/python3.6/site-packages/keras/engine/training.py\u001b[0m in \u001b[0;36mfit_generator\u001b[0;34m(self, generator, steps_per_epoch, epochs, verbose, callbacks, validation_data, validation_steps, class_weight, max_queue_size, workers, use_multiprocessing, shuffle, initial_epoch)\u001b[0m\n\u001b[1;32m   1416\u001b[0m             \u001b[0muse_multiprocessing\u001b[0m\u001b[0;34m=\u001b[0m\u001b[0muse_multiprocessing\u001b[0m\u001b[0;34m,\u001b[0m\u001b[0;34m\u001b[0m\u001b[0m\n\u001b[1;32m   1417\u001b[0m             \u001b[0mshuffle\u001b[0m\u001b[0;34m=\u001b[0m\u001b[0mshuffle\u001b[0m\u001b[0;34m,\u001b[0m\u001b[0;34m\u001b[0m\u001b[0m\n\u001b[0;32m-> 1418\u001b[0;31m             initial_epoch=initial_epoch)\n\u001b[0m\u001b[1;32m   1419\u001b[0m \u001b[0;34m\u001b[0m\u001b[0m\n\u001b[1;32m   1420\u001b[0m     \u001b[0;34m@\u001b[0m\u001b[0minterfaces\u001b[0m\u001b[0;34m.\u001b[0m\u001b[0mlegacy_generator_methods_support\u001b[0m\u001b[0;34m\u001b[0m\u001b[0m\n",
      "\u001b[0;32m~/anaconda3/envs/tensorflow_p36/lib/python3.6/site-packages/keras/engine/training_generator.py\u001b[0m in \u001b[0;36mfit_generator\u001b[0;34m(model, generator, steps_per_epoch, epochs, verbose, callbacks, validation_data, validation_steps, class_weight, max_queue_size, workers, use_multiprocessing, shuffle, initial_epoch)\u001b[0m\n\u001b[1;32m    215\u001b[0m                 outs = model.train_on_batch(x, y,\n\u001b[1;32m    216\u001b[0m                                             \u001b[0msample_weight\u001b[0m\u001b[0;34m=\u001b[0m\u001b[0msample_weight\u001b[0m\u001b[0;34m,\u001b[0m\u001b[0;34m\u001b[0m\u001b[0m\n\u001b[0;32m--> 217\u001b[0;31m                                             class_weight=class_weight)\n\u001b[0m\u001b[1;32m    218\u001b[0m \u001b[0;34m\u001b[0m\u001b[0m\n\u001b[1;32m    219\u001b[0m                 \u001b[0mouts\u001b[0m \u001b[0;34m=\u001b[0m \u001b[0mto_list\u001b[0m\u001b[0;34m(\u001b[0m\u001b[0mouts\u001b[0m\u001b[0;34m)\u001b[0m\u001b[0;34m\u001b[0m\u001b[0m\n",
      "\u001b[0;32m~/anaconda3/envs/tensorflow_p36/lib/python3.6/site-packages/keras/engine/training.py\u001b[0m in \u001b[0;36mtrain_on_batch\u001b[0;34m(self, x, y, sample_weight, class_weight)\u001b[0m\n\u001b[1;32m   1215\u001b[0m             \u001b[0mins\u001b[0m \u001b[0;34m=\u001b[0m \u001b[0mx\u001b[0m \u001b[0;34m+\u001b[0m \u001b[0my\u001b[0m \u001b[0;34m+\u001b[0m \u001b[0msample_weights\u001b[0m\u001b[0;34m\u001b[0m\u001b[0m\n\u001b[1;32m   1216\u001b[0m         \u001b[0mself\u001b[0m\u001b[0;34m.\u001b[0m\u001b[0m_make_train_function\u001b[0m\u001b[0;34m(\u001b[0m\u001b[0;34m)\u001b[0m\u001b[0;34m\u001b[0m\u001b[0m\n\u001b[0;32m-> 1217\u001b[0;31m         \u001b[0moutputs\u001b[0m \u001b[0;34m=\u001b[0m \u001b[0mself\u001b[0m\u001b[0;34m.\u001b[0m\u001b[0mtrain_function\u001b[0m\u001b[0;34m(\u001b[0m\u001b[0mins\u001b[0m\u001b[0;34m)\u001b[0m\u001b[0;34m\u001b[0m\u001b[0m\n\u001b[0m\u001b[1;32m   1218\u001b[0m         \u001b[0;32mreturn\u001b[0m \u001b[0munpack_singleton\u001b[0m\u001b[0;34m(\u001b[0m\u001b[0moutputs\u001b[0m\u001b[0;34m)\u001b[0m\u001b[0;34m\u001b[0m\u001b[0m\n\u001b[1;32m   1219\u001b[0m \u001b[0;34m\u001b[0m\u001b[0m\n",
      "\u001b[0;32m~/anaconda3/envs/tensorflow_p36/lib/python3.6/site-packages/keras/backend/tensorflow_backend.py\u001b[0m in \u001b[0;36m__call__\u001b[0;34m(self, inputs)\u001b[0m\n\u001b[1;32m   2713\u001b[0m                 \u001b[0;32mreturn\u001b[0m \u001b[0mself\u001b[0m\u001b[0;34m.\u001b[0m\u001b[0m_legacy_call\u001b[0m\u001b[0;34m(\u001b[0m\u001b[0minputs\u001b[0m\u001b[0;34m)\u001b[0m\u001b[0;34m\u001b[0m\u001b[0m\n\u001b[1;32m   2714\u001b[0m \u001b[0;34m\u001b[0m\u001b[0m\n\u001b[0;32m-> 2715\u001b[0;31m             \u001b[0;32mreturn\u001b[0m \u001b[0mself\u001b[0m\u001b[0;34m.\u001b[0m\u001b[0m_call\u001b[0m\u001b[0;34m(\u001b[0m\u001b[0minputs\u001b[0m\u001b[0;34m)\u001b[0m\u001b[0;34m\u001b[0m\u001b[0m\n\u001b[0m\u001b[1;32m   2716\u001b[0m         \u001b[0;32melse\u001b[0m\u001b[0;34m:\u001b[0m\u001b[0;34m\u001b[0m\u001b[0m\n\u001b[1;32m   2717\u001b[0m             \u001b[0;32mif\u001b[0m \u001b[0mpy_any\u001b[0m\u001b[0;34m(\u001b[0m\u001b[0mis_tensor\u001b[0m\u001b[0;34m(\u001b[0m\u001b[0mx\u001b[0m\u001b[0;34m)\u001b[0m \u001b[0;32mfor\u001b[0m \u001b[0mx\u001b[0m \u001b[0;32min\u001b[0m \u001b[0minputs\u001b[0m\u001b[0;34m)\u001b[0m\u001b[0;34m:\u001b[0m\u001b[0;34m\u001b[0m\u001b[0m\n",
      "\u001b[0;32m~/anaconda3/envs/tensorflow_p36/lib/python3.6/site-packages/keras/backend/tensorflow_backend.py\u001b[0m in \u001b[0;36m_call\u001b[0;34m(self, inputs)\u001b[0m\n\u001b[1;32m   2673\u001b[0m             \u001b[0mfetched\u001b[0m \u001b[0;34m=\u001b[0m \u001b[0mself\u001b[0m\u001b[0;34m.\u001b[0m\u001b[0m_callable_fn\u001b[0m\u001b[0;34m(\u001b[0m\u001b[0;34m*\u001b[0m\u001b[0marray_vals\u001b[0m\u001b[0;34m,\u001b[0m \u001b[0mrun_metadata\u001b[0m\u001b[0;34m=\u001b[0m\u001b[0mself\u001b[0m\u001b[0;34m.\u001b[0m\u001b[0mrun_metadata\u001b[0m\u001b[0;34m)\u001b[0m\u001b[0;34m\u001b[0m\u001b[0m\n\u001b[1;32m   2674\u001b[0m         \u001b[0;32melse\u001b[0m\u001b[0;34m:\u001b[0m\u001b[0;34m\u001b[0m\u001b[0m\n\u001b[0;32m-> 2675\u001b[0;31m             \u001b[0mfetched\u001b[0m \u001b[0;34m=\u001b[0m \u001b[0mself\u001b[0m\u001b[0;34m.\u001b[0m\u001b[0m_callable_fn\u001b[0m\u001b[0;34m(\u001b[0m\u001b[0;34m*\u001b[0m\u001b[0marray_vals\u001b[0m\u001b[0;34m)\u001b[0m\u001b[0;34m\u001b[0m\u001b[0m\n\u001b[0m\u001b[1;32m   2676\u001b[0m         \u001b[0;32mreturn\u001b[0m \u001b[0mfetched\u001b[0m\u001b[0;34m[\u001b[0m\u001b[0;34m:\u001b[0m\u001b[0mlen\u001b[0m\u001b[0;34m(\u001b[0m\u001b[0mself\u001b[0m\u001b[0;34m.\u001b[0m\u001b[0moutputs\u001b[0m\u001b[0;34m)\u001b[0m\u001b[0;34m]\u001b[0m\u001b[0;34m\u001b[0m\u001b[0m\n\u001b[1;32m   2677\u001b[0m \u001b[0;34m\u001b[0m\u001b[0m\n",
      "\u001b[0;32m~/anaconda3/envs/tensorflow_p36/lib/python3.6/site-packages/tensorflow/python/client/session.py\u001b[0m in \u001b[0;36m__call__\u001b[0;34m(self, *args, **kwargs)\u001b[0m\n\u001b[1;32m   1437\u001b[0m           ret = tf_session.TF_SessionRunCallable(\n\u001b[1;32m   1438\u001b[0m               \u001b[0mself\u001b[0m\u001b[0;34m.\u001b[0m\u001b[0m_session\u001b[0m\u001b[0;34m.\u001b[0m\u001b[0m_session\u001b[0m\u001b[0;34m,\u001b[0m \u001b[0mself\u001b[0m\u001b[0;34m.\u001b[0m\u001b[0m_handle\u001b[0m\u001b[0;34m,\u001b[0m \u001b[0margs\u001b[0m\u001b[0;34m,\u001b[0m \u001b[0mstatus\u001b[0m\u001b[0;34m,\u001b[0m\u001b[0;34m\u001b[0m\u001b[0m\n\u001b[0;32m-> 1439\u001b[0;31m               run_metadata_ptr)\n\u001b[0m\u001b[1;32m   1440\u001b[0m         \u001b[0;32mif\u001b[0m \u001b[0mrun_metadata\u001b[0m\u001b[0;34m:\u001b[0m\u001b[0;34m\u001b[0m\u001b[0m\n\u001b[1;32m   1441\u001b[0m           \u001b[0mproto_data\u001b[0m \u001b[0;34m=\u001b[0m \u001b[0mtf_session\u001b[0m\u001b[0;34m.\u001b[0m\u001b[0mTF_GetBuffer\u001b[0m\u001b[0;34m(\u001b[0m\u001b[0mrun_metadata_ptr\u001b[0m\u001b[0;34m)\u001b[0m\u001b[0;34m\u001b[0m\u001b[0m\n",
      "\u001b[0;31mKeyboardInterrupt\u001b[0m: "
     ]
    }
   ],
   "source": [
    "import numpy as np\n",
    "import pandas as pd\n",
    "import keras\n",
    "from keras.preprocessing.image import ImageDataGenerator\n",
    "from keras.models import Sequential, load_model\n",
    "from keras.layers import Flatten, Dense, Dropout, Conv2D, MaxPooling2D, UpSampling2D\n",
    "from keras.optimizers import RMSprop\n",
    "from keras.callbacks import EarlyStopping, ReduceLROnPlateau\n",
    "import tensorflow as tf\n",
    "\n",
    "\n",
    "# check GPU availability\n",
    "sess = tf.Session(config=tf.ConfigProto(log_device_placement=True))\n",
    "\n",
    "\n",
    "img_dir = 'images_cropped/'\n",
    "metadata_filepath = 'X_meta.csv'\n",
    "batch_size = 128\n",
    "\n",
    "\n",
    "# set up experiment logging\n",
    "# set COMET_API_KEY in your environment variables\n",
    "# or pass it as the first value in the Experiment object\n",
    "# experiment = Experiment(\n",
    "#     \"...\",\n",
    "#     workspace=\"ceceshao1\", project_name=\"aleksey-open-fruits\"\n",
    "# )\n",
    "\n",
    "\n",
    "# get X and y values for flow_from_directory\n",
    "X_meta = pd.read_csv(metadata_filepath)\n",
    "X = X_meta[['CroppedImageURL']].values\n",
    "y = X_meta['LabelName'].values\n",
    "\n",
    "\n",
    "# define data generators\n",
    "train_datagen = ImageDataGenerator(\n",
    "    rotation_range=40,\n",
    "    width_shift_range=0.2,\n",
    "    height_shift_range=0.2,\n",
    "    rescale=1/255,\n",
    "    shear_range=0.2,\n",
    "    zoom_range=0.2,\n",
    "    horizontal_flip=True,\n",
    "    fill_mode='nearest',\n",
    "    validation_split=0.2\n",
    ")\n",
    "test_datagen = ImageDataGenerator(\n",
    "    rescale=1/255,\n",
    ")\n",
    "train_generator = train_datagen.flow_from_directory(\n",
    "    img_dir,\n",
    "    target_size=(96, 96),\n",
    "    batch_size=batch_size,\n",
    "    class_mode='categorical',\n",
    "    subset='training',\n",
    ")\n",
    "validation_generator = train_datagen.flow_from_directory(\n",
    "    img_dir,\n",
    "    target_size=(96, 96),\n",
    "    batch_size=batch_size,\n",
    "    class_mode='categorical',\n",
    "    subset='validation'\n",
    ")\n",
    "\n",
    "\n",
    "prior = load_model('model-48.h5')\n",
    "# prior = load_model('./resnet48_128/model-48.h5')\n",
    "\n",
    "model = Sequential()\n",
    "model.add(Conv2D(64, kernel_size=(3, 3), input_shape=(96, 96, 3), activation='relu', padding='same'))\n",
    "model.add(Conv2D(64, kernel_size=(3, 3), input_shape=(96, 96, 3), activation='relu', padding='same'))\n",
    "model.add(MaxPooling2D(pool_size=(2, 2)))\n",
    "\n",
    "for layer in prior.layers[0].layers[2:]:\n",
    "    model.add(layer)\n",
    "\n",
    "for layer in prior.layers[1:]:\n",
    "    model.add(layer)\n",
    "    \n",
    "for layer in prior.layers[-4:]:\n",
    "    layer.trainable = False\n",
    "    \n",
    "\n",
    "# compile the model\n",
    "model.compile(\n",
    "    optimizer=RMSprop(),\n",
    "    loss='categorical_crossentropy',\n",
    "    metrics=['accuracy']\n",
    ")\n",
    "\n",
    "\n",
    "# generate class weights\n",
    "import os\n",
    "labels_count = dict()\n",
    "for img_class in [ic for ic in os.listdir('images_cropped/') if ic[0] != '.']:\n",
    "    labels_count[img_class] = len(os.listdir('images_cropped/' + img_class))\n",
    "total_count = sum(labels_count.values())\n",
    "class_weights = {cls: total_count / count for cls, count in enumerate(labels_count.values())}\n",
    "\n",
    "\n",
    "# fit the model\n",
    "history = model.fit_generator(\n",
    "    train_generator,\n",
    "    steps_per_epoch=len(train_generator.filenames) // batch_size,\n",
    "    epochs=20,\n",
    "    validation_data=validation_generator,\n",
    "    validation_steps=len(train_generator.filenames) // batch_size,\n",
    "    callbacks=[\n",
    "        EarlyStopping(patience=2, restore_best_weights=True)\n",
    "    ],\n",
    "    class_weight=class_weights\n",
    ")\n",
    "\n",
    "# save model artifacts\n",
    "model.save('/opt/ml/model/model-96.h5')\n",
    "with open('/opt/ml/model/model-96-history.pickle', 'wb') as fp:\n",
    "        pickle.dump(history.history, fp)"
   ]
  },
  {
   "cell_type": "markdown",
   "metadata": {},
   "source": [
    "Determine a good learning rate again."
   ]
  },
  {
   "cell_type": "code",
   "execution_count": 4,
   "metadata": {},
   "outputs": [
    {
     "name": "stdout",
     "output_type": "stream",
     "text": [
      "Found 26376 images belonging to 12 classes.\n",
      "Epoch 1/5\n",
      "3924/3924 [==============================] - 7s 2ms/step - loss: 3.4248 - acc: 0.0841\n",
      "Epoch 2/5\n",
      "3924/3924 [==============================] - 6s 1ms/step - loss: 3.1037 - acc: 0.0851\n",
      "Epoch 3/5\n",
      "3924/3924 [==============================] - 6s 1ms/step - loss: 2.6715 - acc: 0.1075\n",
      "Epoch 4/5\n",
      "3924/3924 [==============================] - 6s 1ms/step - loss: 2.5909 - acc: 0.1465\n",
      "Epoch 5/5\n",
      "3924/3924 [==============================] - 6s 1ms/step - loss: 3.2045 - acc: 0.1218\n"
     ]
    }
   ],
   "source": [
    "from imblearn.under_sampling import RandomUnderSampler\n",
    "from keras_lr_finder import LRFinder\n",
    "\n",
    "lr_find_generator = train_datagen.flow_from_directory(\n",
    "    img_dir,\n",
    "    target_size=(96, 96),\n",
    "    batch_size=8192*2,\n",
    "    class_mode='categorical',\n",
    "    subset='training'\n",
    ")\n",
    "\n",
    "X_batch, y_batch = next(lr_find_generator)\n",
    "X_idxs_resampled, _ = RandomUnderSampler().fit_resample(\n",
    "    np.asarray(range(len(X_batch)))[:, np.newaxis], \n",
    "    y_batch.argmax(axis=1)\n",
    ")\n",
    "\n",
    "X_batch, y_batch = X_batch[X_idxs_resampled[:, 0]], y_batch[X_idxs_resampled[:, 0]]\n",
    "\n",
    "lr_finder = LRFinder(model)\n",
    "lr_finder.find(X_batch, y_batch, start_lr=0.0001, end_lr=1, batch_size=batch_size, epochs=5)\n",
    "\n",
    "# X_batch takes up a lot of memory\n",
    "del X_batch\n",
    "del y_batch"
   ]
  },
  {
   "cell_type": "code",
   "execution_count": 5,
   "metadata": {},
   "outputs": [
    {
     "data": {
      "image/png": "[encoded data removed]",
      "text/plain": [
       "<Figure size 432x288 with 1 Axes>"
      ]
     },
     "metadata": {},
     "output_type": "display_data"
    }
   ],
   "source": [
    "%matplotlib inline\n",
    "lr_finder.plot_loss()"
   ]
  },
  {
   "cell_type": "markdown",
   "metadata": {},
   "source": [
    "The default LR is still a good choice."
   ]
  },
  {
   "cell_type": "code",
   "execution_count": 24,
   "metadata": {},
   "outputs": [
    {
     "name": "stdout",
     "output_type": "stream",
     "text": [
      "\u001b[0m\u001b[01;34mimages_cropped\u001b[0m/  \u001b[01;34mresnet48_128\u001b[0m/  \u001b[01;34mresnet96_128\u001b[0m/     tmp.h5\r\n",
      "model-48.h5      \u001b[01;34mresnet48_256\u001b[0m/  scratchpad.ipynb  X_meta.csv\r\n",
      "README.md        \u001b[01;34mresnet48_512\u001b[0m/  setup.sh\r\n"
     ]
    }
   ],
   "source": [
    "%ls"
   ]
  },
  {
   "cell_type": "code",
   "execution_count": 1,
   "metadata": {},
   "outputs": [],
   "source": [
    "from fahr.fahr import get_next_job_name, get_previous_job_name"
   ]
  },
  {
   "cell_type": "code",
   "execution_count": 2,
   "metadata": {},
   "outputs": [],
   "source": [
    "get_previous_job_name('resnet96-128-train')"
   ]
  },
  {
   "cell_type": "code",
   "execution_count": 3,
   "metadata": {},
   "outputs": [
    {
     "data": {
      "text/plain": [
       "'fahr-resnet96-128-train-1'"
      ]
     },
     "execution_count": 3,
     "metadata": {},
     "output_type": "execute_result"
    }
   ],
   "source": [
    "get_next_job_name('resnet96-128-train')"
   ]
  },
  {
   "cell_type": "code",
   "execution_count": 6,
   "metadata": {},
   "outputs": [
    {
     "name": "stdout",
     "output_type": "stream",
     "text": [
      "fahr.fahr - INFO - Using \"/home/ec2-user/SageMaker/progressive-resizing/resnet96_128/requirements.txt\" as envfile.\n",
      "fahr.fahr - INFO - A Dockerfile already exists at \"/home/ec2-user/SageMaker/progressive-resizing/resnet96_128/Dockerfile\" and \"overwrite\" is set to False. The existing Dockerfile will be reused.\n",
      "fahr.fahr - INFO - An image entrypoint already exists at \"/home/ec2-user/SageMaker/progressive-resizing/resnet96_128/run.sh\" and \"overwrite\" is set to False. The existing file will be reused.\n",
      "fahr.fahr - INFO - Building \"resnet96-128-train\" container image from \"/home/ec2-user/SageMaker/progressive-resizing/resnet96_128\".\n",
      "fahr.fahr - INFO - \"resnet96-128-train\" repository found in ECR registry 730278974607.\n",
      "fahr.fahr - INFO - Retrieving auth token for ECR registry 730278974607.\n",
      "fahr.fahr - INFO - Pushing image to ECR registry 730278974607.\n",
      "fahr.fahr - INFO - aleksey_sagemaker_role is both the desired IAM role and the current execution context. Creating a new session using the current session authorization credentials.\n",
      "fahr.fahr - INFO - Fitting resnet96-128-train classifier with job name fahr-resnet96-128-train-1. Using 1x ml.p2.xlarge compute instances.\n",
      "fahr.fahr - INFO - The training job is now running. To track training progress visit https://console.aws.amazon.com/sagemaker/home?#/jobs/fahr-resnet96-128-train-1. To see training logs visit https://console.aws.amazon.com/cloudwatch/home?#logStream:group=/aws/sagemaker/TrainingJobs;streamFilter=typeLogStreamPrefix. To download finished model artifacts run fahr fetch ./ \"resnet96-128-train\" \"s3://alpha-quilt-storage/aleksey/progressive-resizing/\" (or similar) after training is complete.\n"
     ]
    },
    {
     "name": "stderr",
     "output_type": "stream",
     "text": [
      "INFO:fahr.fahr:aleksey_sagemaker_role is both the desired IAM role and the current execution context. Creating a new session using the current session authorization credentials.\n",
      "INFO:fahr.fahr:Fitting resnet96-128-train classifier with job name fahr-resnet96-128-train-1. Using 1x ml.p2.xlarge compute instances.\n",
      "INFO:sagemaker:Creating training-job with name: fahr-resnet96-128-train-1\n",
      "INFO:fahr.fahr:The training job is now running. To track training progress visit https://console.aws.amazon.com/sagemaker/home?#/jobs/fahr-resnet96-128-train-1. To see training logs visit https://console.aws.amazon.com/cloudwatch/home?#logStream:group=/aws/sagemaker/TrainingJobs;streamFilter=typeLogStreamPrefix. To download finished model artifacts run fahr fetch ./ \"resnet96-128-train\" \"s3://alpha-quilt-storage/aleksey/progressive-resizing/\" (or similar) after training is complete.\n"
     ]
    }
   ],
   "source": [
    "%%sh\n",
    "fahr fit resnet96_128/train.py \\\n",
    "    --build-driver='local-gpu' \\\n",
    "    --train-driver='sagemaker' \\\n",
    "    --config.output_path='s3://alpha-quilt-storage/aleksey/progressive-resizing/' \\\n",
    "    --config.role_name='aleksey_sagemaker_role' \\\n",
    "    --config.train_instance_type='ml.p2.xlarge'"
   ]
  },
  {
   "cell_type": "code",
   "execution_count": 7,
   "metadata": {},
   "outputs": [
    {
     "name": "stdout",
     "output_type": "stream",
     "text": [
      "fahr.fahr - INFO - Downloaded model artifact(s) to \"/home/ec2-user/SageMaker/progressive-resizing/\".\n"
     ]
    }
   ],
   "source": [
    "%%sh\n",
    "fahr fetch ./ \"resnet96-128-train\" \"s3://alpha-quilt-storage/aleksey/progressive-resizing/\""
   ]
  },
  {
   "cell_type": "markdown",
   "metadata": {},
   "source": [
    "### Evaluating the job result"
   ]
  },
  {
   "cell_type": "code",
   "execution_count": 10,
   "metadata": {},
   "outputs": [],
   "source": [
    "import pickle\n",
    "\n",
    "with open(\"model-96-history.pickle\", \"rb\") as fp:\n",
    "    history = pickle.load(fp)"
   ]
  },
  {
   "cell_type": "code",
   "execution_count": 14,
   "metadata": {},
   "outputs": [
    {
     "data": {
      "image/png": "[encoded data removed]",
      "text/plain": [
       "<Figure size 1008x576 with 6 Axes>"
      ]
     },
     "metadata": {},
     "output_type": "display_data"
    }
   ],
   "source": [
    "import matplotlib.pyplot as plt\n",
    "plt.style.use('ggplot')\n",
    "%matplotlib inline\n",
    "\n",
    "fig, axarr = plt.subplots(3, 2, figsize=(14, 8))\n",
    "for i, metric in enumerate(history):\n",
    "    res = history[metric]\n",
    "    j, k = i // 2, i % 2\n",
    "    axarr[j][k].plot(range(len(res)), res)\n",
    "    axarr[j][k].set_title(metric)"
   ]
  },
  {
   "cell_type": "markdown",
   "metadata": {},
   "source": [
    "Validation accuracy is now ~59.5%, up from 55%&mdash;a 4.5% improvement!"
   ]
  },
  {
   "cell_type": "markdown",
   "metadata": {},
   "source": [
    "## One more round of resizing"
   ]
  },
  {
   "cell_type": "code",
   "execution_count": 1,
   "metadata": {},
   "outputs": [
    {
     "name": "stderr",
     "output_type": "stream",
     "text": [
      "Using TensorFlow backend.\n"
     ]
    },
    {
     "name": "stdout",
     "output_type": "stream",
     "text": [
      "Found 26376 images belonging to 12 classes.\n",
      "Found 6588 images belonging to 12 classes.\n",
      "Epoch 1/20\n",
      "  4/206 [..............................] - ETA: 12:29 - loss: 2.8901 - acc: 0.1680"
     ]
    },
    {
     "ename": "KeyboardInterrupt",
     "evalue": "",
     "output_type": "error",
     "traceback": [
      "\u001b[0;31m---------------------------------------------------------------------------\u001b[0m",
      "\u001b[0;31mKeyboardInterrupt\u001b[0m                         Traceback (most recent call last)",
      "\u001b[0;32m<ipython-input-1-04ba8d7d003d>\u001b[0m in \u001b[0;36m<module>\u001b[0;34m()\u001b[0m\n\u001b[1;32m    124\u001b[0m     callbacks=[\n\u001b[1;32m    125\u001b[0m         \u001b[0mEarlyStopping\u001b[0m\u001b[0;34m(\u001b[0m\u001b[0mpatience\u001b[0m\u001b[0;34m=\u001b[0m\u001b[0;36m3\u001b[0m\u001b[0;34m,\u001b[0m \u001b[0mrestore_best_weights\u001b[0m\u001b[0;34m=\u001b[0m\u001b[0;32mTrue\u001b[0m\u001b[0;34m)\u001b[0m\u001b[0;34m,\u001b[0m\u001b[0;34m\u001b[0m\u001b[0m\n\u001b[0;32m--> 126\u001b[0;31m         \u001b[0mReduceLROnPlateau\u001b[0m\u001b[0;34m(\u001b[0m\u001b[0mpatience\u001b[0m\u001b[0;34m=\u001b[0m\u001b[0;36m2\u001b[0m\u001b[0;34m)\u001b[0m\u001b[0;34m\u001b[0m\u001b[0m\n\u001b[0m\u001b[1;32m    127\u001b[0m     ]\n\u001b[1;32m    128\u001b[0m )\n",
      "\u001b[0;32m~/anaconda3/envs/tensorflow_p36/lib/python3.6/site-packages/keras/legacy/interfaces.py\u001b[0m in \u001b[0;36mwrapper\u001b[0;34m(*args, **kwargs)\u001b[0m\n\u001b[1;32m     89\u001b[0m                 warnings.warn('Update your `' + object_name + '` call to the ' +\n\u001b[1;32m     90\u001b[0m                               'Keras 2 API: ' + signature, stacklevel=2)\n\u001b[0;32m---> 91\u001b[0;31m             \u001b[0;32mreturn\u001b[0m \u001b[0mfunc\u001b[0m\u001b[0;34m(\u001b[0m\u001b[0;34m*\u001b[0m\u001b[0margs\u001b[0m\u001b[0;34m,\u001b[0m \u001b[0;34m**\u001b[0m\u001b[0mkwargs\u001b[0m\u001b[0;34m)\u001b[0m\u001b[0;34m\u001b[0m\u001b[0m\n\u001b[0m\u001b[1;32m     92\u001b[0m         \u001b[0mwrapper\u001b[0m\u001b[0;34m.\u001b[0m\u001b[0m_original_function\u001b[0m \u001b[0;34m=\u001b[0m \u001b[0mfunc\u001b[0m\u001b[0;34m\u001b[0m\u001b[0m\n\u001b[1;32m     93\u001b[0m         \u001b[0;32mreturn\u001b[0m \u001b[0mwrapper\u001b[0m\u001b[0;34m\u001b[0m\u001b[0m\n",
      "\u001b[0;32m~/anaconda3/envs/tensorflow_p36/lib/python3.6/site-packages/keras/engine/training.py\u001b[0m in \u001b[0;36mfit_generator\u001b[0;34m(self, generator, steps_per_epoch, epochs, verbose, callbacks, validation_data, validation_steps, class_weight, max_queue_size, workers, use_multiprocessing, shuffle, initial_epoch)\u001b[0m\n\u001b[1;32m   1416\u001b[0m             \u001b[0muse_multiprocessing\u001b[0m\u001b[0;34m=\u001b[0m\u001b[0muse_multiprocessing\u001b[0m\u001b[0;34m,\u001b[0m\u001b[0;34m\u001b[0m\u001b[0m\n\u001b[1;32m   1417\u001b[0m             \u001b[0mshuffle\u001b[0m\u001b[0;34m=\u001b[0m\u001b[0mshuffle\u001b[0m\u001b[0;34m,\u001b[0m\u001b[0;34m\u001b[0m\u001b[0m\n\u001b[0;32m-> 1418\u001b[0;31m             initial_epoch=initial_epoch)\n\u001b[0m\u001b[1;32m   1419\u001b[0m \u001b[0;34m\u001b[0m\u001b[0m\n\u001b[1;32m   1420\u001b[0m     \u001b[0;34m@\u001b[0m\u001b[0minterfaces\u001b[0m\u001b[0;34m.\u001b[0m\u001b[0mlegacy_generator_methods_support\u001b[0m\u001b[0;34m\u001b[0m\u001b[0m\n",
      "\u001b[0;32m~/anaconda3/envs/tensorflow_p36/lib/python3.6/site-packages/keras/engine/training_generator.py\u001b[0m in \u001b[0;36mfit_generator\u001b[0;34m(model, generator, steps_per_epoch, epochs, verbose, callbacks, validation_data, validation_steps, class_weight, max_queue_size, workers, use_multiprocessing, shuffle, initial_epoch)\u001b[0m\n\u001b[1;32m    215\u001b[0m                 outs = model.train_on_batch(x, y,\n\u001b[1;32m    216\u001b[0m                                             \u001b[0msample_weight\u001b[0m\u001b[0;34m=\u001b[0m\u001b[0msample_weight\u001b[0m\u001b[0;34m,\u001b[0m\u001b[0;34m\u001b[0m\u001b[0m\n\u001b[0;32m--> 217\u001b[0;31m                                             class_weight=class_weight)\n\u001b[0m\u001b[1;32m    218\u001b[0m \u001b[0;34m\u001b[0m\u001b[0m\n\u001b[1;32m    219\u001b[0m                 \u001b[0mouts\u001b[0m \u001b[0;34m=\u001b[0m \u001b[0mto_list\u001b[0m\u001b[0;34m(\u001b[0m\u001b[0mouts\u001b[0m\u001b[0;34m)\u001b[0m\u001b[0;34m\u001b[0m\u001b[0m\n",
      "\u001b[0;32m~/anaconda3/envs/tensorflow_p36/lib/python3.6/site-packages/keras/engine/training.py\u001b[0m in \u001b[0;36mtrain_on_batch\u001b[0;34m(self, x, y, sample_weight, class_weight)\u001b[0m\n\u001b[1;32m   1215\u001b[0m             \u001b[0mins\u001b[0m \u001b[0;34m=\u001b[0m \u001b[0mx\u001b[0m \u001b[0;34m+\u001b[0m \u001b[0my\u001b[0m \u001b[0;34m+\u001b[0m \u001b[0msample_weights\u001b[0m\u001b[0;34m\u001b[0m\u001b[0m\n\u001b[1;32m   1216\u001b[0m         \u001b[0mself\u001b[0m\u001b[0;34m.\u001b[0m\u001b[0m_make_train_function\u001b[0m\u001b[0;34m(\u001b[0m\u001b[0;34m)\u001b[0m\u001b[0;34m\u001b[0m\u001b[0m\n\u001b[0;32m-> 1217\u001b[0;31m         \u001b[0moutputs\u001b[0m \u001b[0;34m=\u001b[0m \u001b[0mself\u001b[0m\u001b[0;34m.\u001b[0m\u001b[0mtrain_function\u001b[0m\u001b[0;34m(\u001b[0m\u001b[0mins\u001b[0m\u001b[0;34m)\u001b[0m\u001b[0;34m\u001b[0m\u001b[0m\n\u001b[0m\u001b[1;32m   1218\u001b[0m         \u001b[0;32mreturn\u001b[0m \u001b[0munpack_singleton\u001b[0m\u001b[0;34m(\u001b[0m\u001b[0moutputs\u001b[0m\u001b[0;34m)\u001b[0m\u001b[0;34m\u001b[0m\u001b[0m\n\u001b[1;32m   1219\u001b[0m \u001b[0;34m\u001b[0m\u001b[0m\n",
      "\u001b[0;32m~/anaconda3/envs/tensorflow_p36/lib/python3.6/site-packages/keras/backend/tensorflow_backend.py\u001b[0m in \u001b[0;36m__call__\u001b[0;34m(self, inputs)\u001b[0m\n\u001b[1;32m   2713\u001b[0m                 \u001b[0;32mreturn\u001b[0m \u001b[0mself\u001b[0m\u001b[0;34m.\u001b[0m\u001b[0m_legacy_call\u001b[0m\u001b[0;34m(\u001b[0m\u001b[0minputs\u001b[0m\u001b[0;34m)\u001b[0m\u001b[0;34m\u001b[0m\u001b[0m\n\u001b[1;32m   2714\u001b[0m \u001b[0;34m\u001b[0m\u001b[0m\n\u001b[0;32m-> 2715\u001b[0;31m             \u001b[0;32mreturn\u001b[0m \u001b[0mself\u001b[0m\u001b[0;34m.\u001b[0m\u001b[0m_call\u001b[0m\u001b[0;34m(\u001b[0m\u001b[0minputs\u001b[0m\u001b[0;34m)\u001b[0m\u001b[0;34m\u001b[0m\u001b[0m\n\u001b[0m\u001b[1;32m   2716\u001b[0m         \u001b[0;32melse\u001b[0m\u001b[0;34m:\u001b[0m\u001b[0;34m\u001b[0m\u001b[0m\n\u001b[1;32m   2717\u001b[0m             \u001b[0;32mif\u001b[0m \u001b[0mpy_any\u001b[0m\u001b[0;34m(\u001b[0m\u001b[0mis_tensor\u001b[0m\u001b[0;34m(\u001b[0m\u001b[0mx\u001b[0m\u001b[0;34m)\u001b[0m \u001b[0;32mfor\u001b[0m \u001b[0mx\u001b[0m \u001b[0;32min\u001b[0m \u001b[0minputs\u001b[0m\u001b[0;34m)\u001b[0m\u001b[0;34m:\u001b[0m\u001b[0;34m\u001b[0m\u001b[0m\n",
      "\u001b[0;32m~/anaconda3/envs/tensorflow_p36/lib/python3.6/site-packages/keras/backend/tensorflow_backend.py\u001b[0m in \u001b[0;36m_call\u001b[0;34m(self, inputs)\u001b[0m\n\u001b[1;32m   2673\u001b[0m             \u001b[0mfetched\u001b[0m \u001b[0;34m=\u001b[0m \u001b[0mself\u001b[0m\u001b[0;34m.\u001b[0m\u001b[0m_callable_fn\u001b[0m\u001b[0;34m(\u001b[0m\u001b[0;34m*\u001b[0m\u001b[0marray_vals\u001b[0m\u001b[0;34m,\u001b[0m \u001b[0mrun_metadata\u001b[0m\u001b[0;34m=\u001b[0m\u001b[0mself\u001b[0m\u001b[0;34m.\u001b[0m\u001b[0mrun_metadata\u001b[0m\u001b[0;34m)\u001b[0m\u001b[0;34m\u001b[0m\u001b[0m\n\u001b[1;32m   2674\u001b[0m         \u001b[0;32melse\u001b[0m\u001b[0;34m:\u001b[0m\u001b[0;34m\u001b[0m\u001b[0m\n\u001b[0;32m-> 2675\u001b[0;31m             \u001b[0mfetched\u001b[0m \u001b[0;34m=\u001b[0m \u001b[0mself\u001b[0m\u001b[0;34m.\u001b[0m\u001b[0m_callable_fn\u001b[0m\u001b[0;34m(\u001b[0m\u001b[0;34m*\u001b[0m\u001b[0marray_vals\u001b[0m\u001b[0;34m)\u001b[0m\u001b[0;34m\u001b[0m\u001b[0m\n\u001b[0m\u001b[1;32m   2676\u001b[0m         \u001b[0;32mreturn\u001b[0m \u001b[0mfetched\u001b[0m\u001b[0;34m[\u001b[0m\u001b[0;34m:\u001b[0m\u001b[0mlen\u001b[0m\u001b[0;34m(\u001b[0m\u001b[0mself\u001b[0m\u001b[0;34m.\u001b[0m\u001b[0moutputs\u001b[0m\u001b[0;34m)\u001b[0m\u001b[0;34m]\u001b[0m\u001b[0;34m\u001b[0m\u001b[0m\n\u001b[1;32m   2677\u001b[0m \u001b[0;34m\u001b[0m\u001b[0m\n",
      "\u001b[0;32m~/anaconda3/envs/tensorflow_p36/lib/python3.6/site-packages/tensorflow/python/client/session.py\u001b[0m in \u001b[0;36m__call__\u001b[0;34m(self, *args, **kwargs)\u001b[0m\n\u001b[1;32m   1437\u001b[0m           ret = tf_session.TF_SessionRunCallable(\n\u001b[1;32m   1438\u001b[0m               \u001b[0mself\u001b[0m\u001b[0;34m.\u001b[0m\u001b[0m_session\u001b[0m\u001b[0;34m.\u001b[0m\u001b[0m_session\u001b[0m\u001b[0;34m,\u001b[0m \u001b[0mself\u001b[0m\u001b[0;34m.\u001b[0m\u001b[0m_handle\u001b[0m\u001b[0;34m,\u001b[0m \u001b[0margs\u001b[0m\u001b[0;34m,\u001b[0m \u001b[0mstatus\u001b[0m\u001b[0;34m,\u001b[0m\u001b[0;34m\u001b[0m\u001b[0m\n\u001b[0;32m-> 1439\u001b[0;31m               run_metadata_ptr)\n\u001b[0m\u001b[1;32m   1440\u001b[0m         \u001b[0;32mif\u001b[0m \u001b[0mrun_metadata\u001b[0m\u001b[0;34m:\u001b[0m\u001b[0;34m\u001b[0m\u001b[0m\n\u001b[1;32m   1441\u001b[0m           \u001b[0mproto_data\u001b[0m \u001b[0;34m=\u001b[0m \u001b[0mtf_session\u001b[0m\u001b[0;34m.\u001b[0m\u001b[0mTF_GetBuffer\u001b[0m\u001b[0;34m(\u001b[0m\u001b[0mrun_metadata_ptr\u001b[0m\u001b[0;34m)\u001b[0m\u001b[0;34m\u001b[0m\u001b[0m\n",
      "\u001b[0;31mKeyboardInterrupt\u001b[0m: "
     ]
    }
   ],
   "source": [
    "# from comet_ml import Experiment  # must be imported before keras\n",
    "import numpy as np\n",
    "import pandas as pd\n",
    "import keras\n",
    "from keras.preprocessing.image import ImageDataGenerator\n",
    "from keras.models import Sequential, load_model\n",
    "from keras.layers import Flatten, Dense, Dropout, Conv2D, MaxPooling2D, UpSampling2D\n",
    "from keras.optimizers import RMSprop\n",
    "from keras.callbacks import EarlyStopping, ReduceLROnPlateau\n",
    "import tensorflow as tf\n",
    "import pickle\n",
    "\n",
    "\n",
    "# check GPU availability\n",
    "sess = tf.Session(config=tf.ConfigProto(log_device_placement=True))\n",
    "\n",
    "\n",
    "img_dir = 'images_cropped/'\n",
    "metadata_filepath = 'X_meta.csv'\n",
    "batch_size = 128\n",
    "\n",
    "\n",
    "# set up experiment logging\n",
    "# set COMET_API_KEY in your environment variables\n",
    "# or pass it as the first value in the Experiment object\n",
    "# experiment = Experiment(\n",
    "#     \"CgFCfEAIYJVIxez3BZzCqFeeX\",\n",
    "#     workspace=\"ceceshao1\", project_name=\"aleksey-open-fruits\"\n",
    "# )\n",
    "\n",
    "\n",
    "# get X and y values for flow_from_directory\n",
    "X_meta = pd.read_csv(metadata_filepath)\n",
    "X = X_meta[['CroppedImageURL']].values\n",
    "y = X_meta['LabelName'].values\n",
    "\n",
    "\n",
    "# define data generators\n",
    "train_datagen = ImageDataGenerator(\n",
    "    rotation_range=40,\n",
    "    width_shift_range=0.2,\n",
    "    height_shift_range=0.2,\n",
    "    rescale=1/255,\n",
    "    shear_range=0.2,\n",
    "    zoom_range=0.2,\n",
    "    horizontal_flip=True,\n",
    "    fill_mode='nearest',\n",
    "    validation_split=0.2\n",
    ")\n",
    "test_datagen = ImageDataGenerator(\n",
    "    rescale=1/255,\n",
    ")\n",
    "train_generator = train_datagen.flow_from_directory(\n",
    "    img_dir,\n",
    "    target_size=(192, 192),\n",
    "    batch_size=batch_size,\n",
    "    class_mode='categorical',\n",
    "    subset='training',\n",
    ")\n",
    "validation_generator = train_datagen.flow_from_directory(\n",
    "    img_dir,\n",
    "    target_size=(192, 192),\n",
    "    batch_size=batch_size,\n",
    "    class_mode='categorical',\n",
    "    subset='validation'\n",
    ")\n",
    "\n",
    "\n",
    "# define the model\n",
    "\n",
    "# init a new model with 192x192 CNN layers\n",
    "# padding='same' will downsample to 96x96\n",
    "# # which is the expected input size for pretrain\n",
    "model = Sequential()\n",
    "model.add(Conv2D(64, kernel_size=(3, 3), input_shape=(192, 192, 3), activation='relu', padding='same'))\n",
    "model.add(Conv2D(64, kernel_size=(3, 3), activation='relu', padding='same'))\n",
    "model.add(MaxPooling2D(pool_size=(2, 2)))\n",
    "\n",
    "# load the pretrained model\n",
    "prior = load_model('model-96.h5')\n",
    "\n",
    "# add all but the first two layers of VGG16 to the new model\n",
    "# strip the input layer out, this is now 96x96\n",
    "# also strip out the first convolutional layer, this took the 96x96 input and convolved it but\n",
    "# this is now the job of the three new layers.\n",
    "for layer in prior.layers[1:]:\n",
    "    layer.name += '_prior'  # set layer names to avoid name collisions\n",
    "    model.add(layer)\n",
    "\n",
    "# the pretrained CNN layers are already marked non-trainable\n",
    "# mark off the top layers as well\n",
    "for layer in prior.layers[-4:]:\n",
    "    layer.trainable = False\n",
    "    \n",
    "\n",
    "# compile the model\n",
    "model.compile(\n",
    "    optimizer=RMSprop(),\n",
    "    loss='categorical_crossentropy',\n",
    "    metrics=['accuracy']\n",
    ")\n",
    "\n",
    "\n",
    "# generate class weights\n",
    "import os\n",
    "labels_count = dict()\n",
    "for img_class in [ic for ic in os.listdir('images_cropped/') if ic[0] != '.']:\n",
    "    labels_count[img_class] = len(os.listdir('images_cropped/' + img_class))\n",
    "total_count = sum(labels_count.values())\n",
    "class_weights = {cls: total_count / count for cls, count in enumerate(labels_count.values())}\n",
    "\n",
    "\n",
    "# fit the model\n",
    "history = model.fit_generator(\n",
    "    train_generator,\n",
    "    steps_per_epoch=len(train_generator.filenames) // batch_size,\n",
    "    epochs=20,\n",
    "    validation_data=validation_generator,\n",
    "    validation_steps=len(train_generator.filenames) // batch_size,\n",
    "    callbacks=[\n",
    "        EarlyStopping(patience=3, restore_best_weights=True),\n",
    "        ReduceLROnPlateau(patience=2)\n",
    "    ]\n",
    ")"
   ]
  },
  {
   "cell_type": "code",
   "execution_count": 80,
   "metadata": {},
   "outputs": [
    {
     "name": "stdout",
     "output_type": "stream",
     "text": [
      "Found 26376 images belonging to 12 classes.\n",
      "Epoch 1/5\n",
      "3684/3684 [==============================] - 39s 11ms/step - loss: 2.2301 - acc: 0.2448\n",
      "Epoch 2/5\n",
      "3684/3684 [==============================] - 34s 9ms/step - loss: 2.2197 - acc: 0.2818\n",
      "Epoch 3/5\n",
      "3684/3684 [==============================] - 33s 9ms/step - loss: 2.8779 - acc: 0.1789\n",
      "Epoch 4/5\n",
      " 512/3684 [===>..........................] - ETA: 28s - loss: 6.3573 - acc: 0.0840"
     ]
    }
   ],
   "source": [
    "from imblearn.under_sampling import RandomUnderSampler\n",
    "from keras_lr_finder import LRFinder\n",
    "\n",
    "lr_find_generator = train_datagen.flow_from_directory(\n",
    "    img_dir,\n",
    "    target_size=(192, 192),\n",
    "    batch_size=8192*2,\n",
    "    class_mode='categorical',\n",
    "    subset='training'\n",
    ")\n",
    "\n",
    "X_batch, y_batch = next(lr_find_generator)\n",
    "X_idxs_resampled, _ = RandomUnderSampler().fit_resample(\n",
    "    np.asarray(range(len(X_batch)))[:, np.newaxis], \n",
    "    y_batch.argmax(axis=1)\n",
    ")\n",
    "\n",
    "X_batch, y_batch = X_batch[X_idxs_resampled[:, 0]], y_batch[X_idxs_resampled[:, 0]]\n",
    "\n",
    "lr_finder = LRFinder(model)\n",
    "lr_finder.find(X_batch, y_batch, start_lr=0.0001, end_lr=1, batch_size=batch_size, epochs=5)\n",
    "\n",
    "# X_batch takes up a lot of memory\n",
    "del X_batch\n",
    "del y_batch"
   ]
  },
  {
   "cell_type": "code",
   "execution_count": 81,
   "metadata": {},
   "outputs": [
    {
     "data": {
      "image/png": "[encoded data removed]",
      "text/plain": [
       "<Figure size 432x288 with 1 Axes>"
      ]
     },
     "metadata": {},
     "output_type": "display_data"
    }
   ],
   "source": [
    "%matplotlib inline\n",
    "lr_finder.plot_loss()"
   ]
  },
  {
   "cell_type": "markdown",
   "metadata": {},
   "source": [
    "The default LR is still good."
   ]
  },
  {
   "cell_type": "code",
   "execution_count": 3,
   "metadata": {
    "scrolled": false
   },
   "outputs": [
    {
     "name": "stdout",
     "output_type": "stream",
     "text": [
      "fahr.fahr - INFO - Using \"/home/ec2-user/SageMaker/progressive-resizing/resnet192_128/requirements.txt\" as envfile.\n",
      "fahr.fahr - INFO - A Dockerfile already exists at \"/home/ec2-user/SageMaker/progressive-resizing/resnet192_128/Dockerfile\" and \"overwrite\" is set to False. The existing Dockerfile will be reused.\n",
      "fahr.fahr - INFO - An image entrypoint already exists at \"/home/ec2-user/SageMaker/progressive-resizing/resnet192_128/run.sh\" and \"overwrite\" is set to False. The existing file will be reused.\n",
      "fahr.fahr - INFO - Building \"resnet192-128-train\" container image from \"/home/ec2-user/SageMaker/progressive-resizing/resnet192_128\".\n",
      "fahr.fahr - INFO - \"resnet192-128-train\" repository found in ECR registry 730278974607.\n",
      "fahr.fahr - INFO - Retrieving auth token for ECR registry 730278974607.\n",
      "fahr.fahr - INFO - Pushing image to ECR registry 730278974607.\n",
      "fahr.fahr - INFO - aleksey_sagemaker_role is both the desired IAM role and the current execution context. Creating a new session using the current session authorization credentials.\n",
      "fahr.fahr - INFO - Fitting resnet192-128-train classifier with job name fahr-resnet192-128-train-5. Using 1x ml.p3.2xlarge compute instances.\n",
      "fahr.fahr - INFO - The training job is now running. To track training progress visit https://console.aws.amazon.com/sagemaker/home?#/jobs/fahr-resnet192-128-train-5. To see training logs visit https://console.aws.amazon.com/cloudwatch/home?#logStream:group=/aws/sagemaker/TrainingJobs;streamFilter=typeLogStreamPrefix. To download finished model artifacts run fahr fetch ./ \"resnet192-128-train\" \"s3://alpha-quilt-storage/aleksey/progressive-resizing/\" (or similar) after training is complete.\n"
     ]
    },
    {
     "name": "stderr",
     "output_type": "stream",
     "text": [
      "INFO:fahr.fahr:aleksey_sagemaker_role is both the desired IAM role and the current execution context. Creating a new session using the current session authorization credentials.\n",
      "INFO:fahr.fahr:Fitting resnet192-128-train classifier with job name fahr-resnet192-128-train-5. Using 1x ml.p3.2xlarge compute instances.\n",
      "INFO:sagemaker:Creating training-job with name: fahr-resnet192-128-train-5\n",
      "INFO:fahr.fahr:The training job is now running. To track training progress visit https://console.aws.amazon.com/sagemaker/home?#/jobs/fahr-resnet192-128-train-5. To see training logs visit https://console.aws.amazon.com/cloudwatch/home?#logStream:group=/aws/sagemaker/TrainingJobs;streamFilter=typeLogStreamPrefix. To download finished model artifacts run fahr fetch ./ \"resnet192-128-train\" \"s3://alpha-quilt-storage/aleksey/progressive-resizing/\" (or similar) after training is complete.\n"
     ]
    }
   ],
   "source": [
    "%%sh\n",
    "fahr fit resnet192_128/train.py \\\n",
    "    --build-driver='local-gpu' \\\n",
    "    --train-driver='sagemaker' \\\n",
    "    --config.output_path='s3://alpha-quilt-storage/aleksey/progressive-resizing/' \\\n",
    "    --config.role_name='aleksey_sagemaker_role' \\\n",
    "    --config.train_instance_type='ml.p3.2xlarge'"
   ]
  },
  {
   "cell_type": "markdown",
   "metadata": {},
   "source": [
    "## Checking train size"
   ]
  },
  {
   "cell_type": "code",
   "execution_count": 16,
   "metadata": {},
   "outputs": [
    {
     "name": "stdout",
     "output_type": "stream",
     "text": [
      "_________________________________________________________________\n",
      "Layer (type)                 Output Shape              Param #   \n",
      "=================================================================\n",
      "vgg16 (Model)                (None, 1, 1, 512)         14714688  \n",
      "_________________________________________________________________\n",
      "flatten_3 (Flatten)          (None, 512)               0         \n",
      "_________________________________________________________________\n",
      "Dense_Intermediate (Dense)   (None, 256)               131328    \n",
      "_________________________________________________________________\n",
      "Dropout_Regularization (Drop (None, 256)               0         \n",
      "_________________________________________________________________\n",
      "Output (Dense)               (None, 12)                3084      \n",
      "=================================================================\n",
      "Total params: 14,849,100\n",
      "Trainable params: 14,849,100\n",
      "Non-trainable params: 0\n",
      "_________________________________________________________________\n"
     ]
    }
   ],
   "source": [
    "prior = keras.applications.VGG16(\n",
    "    include_top=False, \n",
    "    weights='imagenet',\n",
    "    input_shape=(48, 48, 3)\n",
    ")\n",
    "model = Sequential()\n",
    "model.add(prior)\n",
    "model.add(Flatten())\n",
    "model.add(Dense(256, activation='relu', name='Dense_Intermediate'))\n",
    "model.add(Dropout(0.1, name='Dropout_Regularization'))\n",
    "model.add(Dense(12, activation='sigmoid', name='Output'))\n",
    "\n",
    "\n",
    "# compile the model\n",
    "model.compile(\n",
    "    optimizer=RMSprop(),\n",
    "    loss='categorical_crossentropy',\n",
    "    metrics=['accuracy']\n",
    ")\n",
    "\n",
    "model.summary()"
   ]
  }
 ],
 "metadata": {
  "kernelspec": {
   "display_name": "conda_tensorflow_p36",
   "language": "python",
   "name": "conda_tensorflow_p36"
  },
  "language_info": {
   "codemirror_mode": {
    "name": "ipython",
    "version": 3
   },
   "file_extension": ".py",
   "mimetype": "text/x-python",
   "name": "python",
   "nbconvert_exporter": "python",
   "pygments_lexer": "ipython3",
   "version": "3.6.5"
  }
 },
 "nbformat": 4,
 "nbformat_minor": 2
}
